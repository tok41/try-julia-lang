{
 "cells": [
  {
   "cell_type": "markdown",
   "id": "70b96c45-7822-48b7-849d-a09c4f9b5388",
   "metadata": {},
   "source": [
    "# ファイル入出力"
   ]
  },
  {
   "cell_type": "markdown",
   "id": "b3a4c392-13c4-42a6-9076-6e1c9703c19a",
   "metadata": {},
   "source": [
    "## 基本"
   ]
  },
  {
   "cell_type": "code",
   "execution_count": 1,
   "id": "fe50a47b-6922-4598-8c4b-13bb5176ad84",
   "metadata": {},
   "outputs": [
    {
     "data": {
      "text/plain": [
       "IOStream(<file ../data/input.txt>)"
      ]
     },
     "execution_count": 1,
     "metadata": {},
     "output_type": "execute_result"
    }
   ],
   "source": [
    "f = open(\"../data/input.txt\")"
   ]
  },
  {
   "cell_type": "markdown",
   "id": "e37f104e-c3ff-4dd0-9b91-527bc68fecba",
   "metadata": {},
   "source": [
    "`open`でIOStreamが作成される。\n",
    "\n",
    "`readlines`で1行づつ要素になったリストが返される。"
   ]
  },
  {
   "cell_type": "code",
   "execution_count": 2,
   "id": "54d3551c-d154-4d8d-b8aa-9d7c32cd8db0",
   "metadata": {},
   "outputs": [
    {
     "data": {
      "text/plain": [
       "2-element Vector{String}:\n",
       " \"Hello Julia!\"\n",
       " \"hello\""
      ]
     },
     "execution_count": 2,
     "metadata": {},
     "output_type": "execute_result"
    }
   ],
   "source": [
    "f = open(\"../data/input.txt\")\n",
    "ret = readlines(f)\n",
    "ret"
   ]
  },
  {
   "cell_type": "code",
   "execution_count": 3,
   "id": "ab7e13d9-0f22-43bd-bdc9-d1fa371a2587",
   "metadata": {},
   "outputs": [
    {
     "name": "stdout",
     "output_type": "stream",
     "text": [
      "Hello Julia!\n",
      "hello\n"
     ]
    }
   ],
   "source": [
    "f = open(\"../data/input.txt\")\n",
    "for line in eachline(f)\n",
    "    println(line)\n",
    "end"
   ]
  },
  {
   "cell_type": "markdown",
   "id": "01467beb-b084-4a22-85cb-dedb99946634",
   "metadata": {},
   "source": [
    "## JSON"
   ]
  },
  {
   "cell_type": "markdown",
   "id": "834e492a-9d58-42db-84b6-134db7fae595",
   "metadata": {},
   "source": [
    "`JSON.jl`パッケージを利用する。\n",
    "そのため、予めパッケージのインストールは済ませておくこと。\n",
    "\n",
    "```\n",
    "add JSON\n",
    "```"
   ]
  },
  {
   "cell_type": "code",
   "execution_count": 4,
   "id": "23f186e2-d6ac-44f7-b698-3ed75cb2860b",
   "metadata": {},
   "outputs": [
    {
     "data": {
      "text/plain": [
       "Dict{String, Any} with 3 entries:\n",
       "  \"name\"        => \"Hoge\"\n",
       "  \"birthday\"    => \"08-05\"\n",
       "  \"affiliation\" => Any[\"collegeA\", \"comA\", \"comB\"]"
      ]
     },
     "execution_count": 4,
     "metadata": {},
     "output_type": "execute_result"
    }
   ],
   "source": [
    "using JSON\n",
    "JSON.parsefile(\"../data/test.json\")"
   ]
  },
  {
   "cell_type": "code",
   "execution_count": 5,
   "id": "f80cd49c-9e5d-4dd5-a1e4-850ea79b67ef",
   "metadata": {},
   "outputs": [
    {
     "data": {
      "text/plain": [
       "Dict{String, Any} with 3 entries:\n",
       "  \"name\"        => \"Fuga\"\n",
       "  \"birthday\"    => \"04-01\"\n",
       "  \"affiliation\" => [\"BB\", \"CC\", \"DD\"]"
      ]
     },
     "execution_count": 5,
     "metadata": {},
     "output_type": "execute_result"
    }
   ],
   "source": [
    "d = Dict(\n",
    "    \"name\" => \"Fuga\", \n",
    "    \"birthday\" => \"04-01\", \n",
    "    \"affiliation\" => [\"BB\", \"CC\", \"DD\"]\n",
    ")"
   ]
  },
  {
   "cell_type": "code",
   "execution_count": 6,
   "id": "230c2c04-c374-4342-b7b1-6b48a4e5ede1",
   "metadata": {},
   "outputs": [
    {
     "data": {
      "text/plain": [
       "\"{\\\"name\\\":\\\"Fuga\\\",\\\"birthday\\\":\\\"04-01\\\",\\\"affiliation\\\":[\\\"BB\\\",\\\"CC\\\",\\\"DD\\\"]}\""
      ]
     },
     "execution_count": 6,
     "metadata": {},
     "output_type": "execute_result"
    }
   ],
   "source": [
    "JSON.json(d)"
   ]
  },
  {
   "cell_type": "markdown",
   "id": "e4b3c641-3634-4209-bc98-4b409abccfa7",
   "metadata": {},
   "source": [
    "## CSV"
   ]
  },
  {
   "cell_type": "markdown",
   "id": "a15ad842-cbf4-4106-bffe-75ef85481583",
   "metadata": {},
   "source": [
    "`CSV.jl`パッケージを使う"
   ]
  },
  {
   "cell_type": "code",
   "execution_count": 7,
   "id": "7ec37c9e-7b2a-441e-978b-3c0da27846fd",
   "metadata": {},
   "outputs": [
    {
     "name": "stdout",
     "output_type": "stream",
     "text": [
      "CSV.Row:\n",
      " :col1             \"A\"\n",
      " Symbol(\" col2\")  1\n",
      " Symbol(\" col3\")   \" asdf\"\n",
      "CSV.Row:\n",
      " :col1             \"B\"\n",
      " Symbol(\" col2\")  2\n",
      " Symbol(\" col3\")   \" zxcv\"\n",
      "CSV.Row:\n",
      " :col1             \"C\"\n",
      " Symbol(\" col2\")  3\n",
      " Symbol(\" col3\")   \" qwer\"\n"
     ]
    }
   ],
   "source": [
    "using CSV\n",
    "f = CSV.File(\"../data/test.csv\")\n",
    "for row in f\n",
    "    println(row)\n",
    "end"
   ]
  },
  {
   "cell_type": "code",
   "execution_count": 8,
   "id": "089482d0-7e6f-4ec6-a6b8-f385515e5bfb",
   "metadata": {},
   "outputs": [
    {
     "data": {
      "text/plain": [
       "3-element CSV.File{false}:\n",
       " CSV.Row: (col1 = \"A\",  col2 = 1,  col3 = \" asdf\")\n",
       " CSV.Row: (col1 = \"B\",  col2 = 2,  col3 = \" zxcv\")\n",
       " CSV.Row: (col1 = \"C\",  col2 = 3,  col3 = \" qwer\")"
      ]
     },
     "execution_count": 8,
     "metadata": {},
     "output_type": "execute_result"
    }
   ],
   "source": [
    "f"
   ]
  },
  {
   "cell_type": "markdown",
   "id": "bcfd15b3-0038-44b7-b3c4-88724b8fac60",
   "metadata": {},
   "source": [
    "# 他言語の呼び出し"
   ]
  },
  {
   "cell_type": "markdown",
   "id": "82776a96-84ad-45e4-ab08-7921d4495417",
   "metadata": {},
   "source": [
    "## Pythonの呼び出し\n",
    "\n",
    "`PyCall.jl`を利用する。\n",
    "\n",
    "pythonのモジュールをJuliaのオブジェクトのように使える。文字列の前に`py`をつけると、Pythonのコードとして解釈される。\n",
    "\n",
    "インストールはいつものように、REPLから実施。"
   ]
  },
  {
   "cell_type": "code",
   "execution_count": 9,
   "id": "f115d767-39c2-4da8-a6e8-3b72fc31cc54",
   "metadata": {},
   "outputs": [
    {
     "data": {
      "text/plain": [
       "PyObject <built-in function abs>"
      ]
     },
     "execution_count": 9,
     "metadata": {},
     "output_type": "execute_result"
    }
   ],
   "source": [
    "using PyCall\n",
    "\n",
    "const pyabs = py\"abs\""
   ]
  },
  {
   "cell_type": "code",
   "execution_count": 10,
   "id": "e9ed2c87-5997-49ba-8bea-98e423474abf",
   "metadata": {},
   "outputs": [
    {
     "data": {
      "text/plain": [
       "1.2"
      ]
     },
     "execution_count": 10,
     "metadata": {},
     "output_type": "execute_result"
    }
   ],
   "source": [
    "pyabs(-1.2)"
   ]
  },
  {
   "cell_type": "markdown",
   "id": "629936f4-4596-4d13-abed-c65a00b514cb",
   "metadata": {},
   "source": [
    "Pythonモジュールも同様に扱えるが、`pyimport`でモジュールを読み込む。\n",
    "`.`でメソッドを利用できる。"
   ]
  },
  {
   "cell_type": "code",
   "execution_count": 11,
   "id": "5f301e01-3708-45f2-924b-6ee6a232c889",
   "metadata": {},
   "outputs": [
    {
     "data": {
      "text/plain": [
       "PyObject <module 'scipy.stats' from '/opt/conda/lib/python3.9/site-packages/scipy/stats/__init__.py'>"
      ]
     },
     "execution_count": 11,
     "metadata": {},
     "output_type": "execute_result"
    }
   ],
   "source": [
    "const pystats = pyimport(\"scipy.stats\")"
   ]
  },
  {
   "cell_type": "code",
   "execution_count": 12,
   "id": "5dbba9d8-7d5c-4151-89df-85a22fa49a2d",
   "metadata": {},
   "outputs": [
    {
     "data": {
      "text/plain": [
       "10-element Vector{Float64}:\n",
       " 3.6843818901638787\n",
       " 0.9601903661744853\n",
       " 3.517473427654746\n",
       " 1.1959318869290074\n",
       " 3.678869995642194\n",
       " 3.099259083246876\n",
       " 2.960654242081981\n",
       " 1.4693040563447748\n",
       " 0.9316236901858359\n",
       " 0.45298474884963813"
      ]
     },
     "execution_count": 12,
     "metadata": {},
     "output_type": "execute_result"
    }
   ],
   "source": [
    "pystats.norm(loc=2.0, scale=1.0).rvs(size=10)"
   ]
  },
  {
   "cell_type": "markdown",
   "id": "51066c4f-5e09-43d7-b37f-3405eacb51c0",
   "metadata": {},
   "source": [
    "# ドキュメンテーション"
   ]
  },
  {
   "cell_type": "markdown",
   "id": "a1a91206-e5c8-425b-a0cc-4b90a5922fc1",
   "metadata": {},
   "source": [
    "Juliaでは、関数定義の直前にMarkdownで文字列を入力しておくと、その文字列が関数のdocstringとして解釈される。\n",
    "\n",
    "Jupytyerでは、`?{object-name}`でobjectのdocstringを確認できる。ただ、見出しがそのままjupyterの見出しと競合してしまうので、見出し番号をつけている場合とか、TOCを使っている場合には要注意。"
   ]
  },
  {
   "cell_type": "code",
   "execution_count": 13,
   "id": "dd0b1b50-d7c3-49d6-b235-0fdfcd22d070",
   "metadata": {},
   "outputs": [
    {
     "data": {
      "text/plain": [
       "foo"
      ]
     },
     "execution_count": 13,
     "metadata": {},
     "output_type": "execute_result"
    }
   ],
   "source": [
    "\"\"\"\n",
    "    foo(x, y)\n",
    "\n",
    "`foo` is sample function.\n",
    "\n",
    "## Arguments\n",
    "- x: numeric parameter\n",
    "- y: numeric parameter\n",
    "\n",
    "## Examples\n",
    "\n",
    "```jldoctest\n",
    "julia> foo(1, 2)\n",
    "3\n",
    "```\n",
    "\n",
    "\"\"\"\n",
    "function foo(x, y)\n",
    "    return x + y\n",
    "end"
   ]
  },
  {
   "cell_type": "code",
   "execution_count": 14,
   "id": "f8bbb6b3-f21e-4a39-83a3-ee353bb1f67f",
   "metadata": {},
   "outputs": [
    {
     "data": {
      "text/latex": [
       "\\begin{verbatim}\n",
       "foo(x, y)\n",
       "\\end{verbatim}\n",
       "\\texttt{foo} is sample function.\n",
       "\n",
       "\\subsection{Arguments}\n",
       "\\begin{itemize}\n",
       "\\item x: numeric parameter\n",
       "\n",
       "\n",
       "\\item y: numeric parameter\n",
       "\n",
       "\\end{itemize}\n",
       "\\subsection{Examples}\n",
       "\\begin{verbatim}\n",
       "julia> foo(1, 2)\n",
       "3\n",
       "\\end{verbatim}\n"
      ],
      "text/markdown": [
       "```\n",
       "foo(x, y)\n",
       "```\n",
       "\n",
       "`foo` is sample function.\n",
       "\n",
       "## Arguments\n",
       "\n",
       "  * x: numeric parameter\n",
       "  * y: numeric parameter\n",
       "\n",
       "## Examples\n",
       "\n",
       "```jldoctest\n",
       "julia> foo(1, 2)\n",
       "3\n",
       "```\n"
      ],
      "text/plain": [
       "\u001b[36m  foo(x, y)\u001b[39m\n",
       "\n",
       "  \u001b[36mfoo\u001b[39m is sample function.\n",
       "\n",
       "\u001b[1m  Arguments\u001b[22m\n",
       "\u001b[1m  ===========\u001b[22m\n",
       "\n",
       "    •  x: numeric parameter\n",
       "\n",
       "    •  y: numeric parameter\n",
       "\n",
       "\u001b[1m  Examples\u001b[22m\n",
       "\u001b[1m  ==========\u001b[22m\n",
       "\n",
       "\u001b[36m  julia> foo(1, 2)\u001b[39m\n",
       "\u001b[36m  3\u001b[39m"
      ]
     },
     "execution_count": 14,
     "metadata": {},
     "output_type": "execute_result"
    }
   ],
   "source": [
    "?Main.foo"
   ]
  },
  {
   "cell_type": "markdown",
   "id": "b0e4b546-1b1a-401f-a9e4-f3db68cdb36b",
   "metadata": {},
   "source": [
    "# 可視化"
   ]
  },
  {
   "cell_type": "markdown",
   "id": "7464b321-829a-4c98-8a3f-e8b21aec026a",
   "metadata": {},
   "source": [
    "`PyPlot.jl`を使ってみる。\n",
    "\n",
    "これは、matplotlibパッケージのJuliaインターフェース。matplotlibの機能がほぼそのままJuliaでも使えるので、高機能だし、学習コストが低い。"
   ]
  },
  {
   "cell_type": "code",
   "execution_count": 15,
   "id": "265e1016-dbef-4378-af5a-7fc5186c3615",
   "metadata": {},
   "outputs": [
    {
     "data": {
      "text/plain": [
       "v\"3.4.2\""
      ]
     },
     "execution_count": 15,
     "metadata": {},
     "output_type": "execute_result"
    }
   ],
   "source": [
    "using PyPlot\n",
    "\n",
    "PyPlot.version"
   ]
  },
  {
   "cell_type": "code",
   "execution_count": 16,
   "id": "6992dbfc-d169-45ab-89a3-a8482cb9ffb9",
   "metadata": {},
   "outputs": [
    {
     "data": {
      "image/png": "[encoded data removed]",
      "text/plain": [
       "Figure(PyObject <Figure size 640x480 with 1 Axes>)"
      ]
     },
     "metadata": {},
     "output_type": "display_data"
    }
   ],
   "source": [
    "x = vcat(randn(100), 2*randn(100).+ 4);\n",
    "hist(x, bins=30);"
   ]
  },
  {
   "cell_type": "code",
   "execution_count": 17,
   "id": "a2eabc8c-6c92-45b6-bb91-3b2a66d7e536",
   "metadata": {},
   "outputs": [
    {
     "data": {
      "image/png": "[encoded data removed]",
      "text/plain": [
       "Figure(PyObject <Figure size 1000x600 with 2 Axes>)"
      ]
     },
     "metadata": {},
     "output_type": "display_data"
    }
   ],
   "source": [
    "x = range(-2, 2, length=500);\n",
    "y1 = x.^2\n",
    "y2 = x.^3\n",
    "\n",
    "fig = figure(figsize=(10, 6));\n",
    "ax = fig.subplots(2, 1);\n",
    "ax[1].plot(x, y1, label=\"\\$x^2\\$\")\n",
    "ax[2].plot(x, y2, label=\"\\$x^3\\$\")\n",
    "ax[1].legend();\n",
    "ax[2].legend();"
   ]
  },
  {
   "cell_type": "code",
   "execution_count": null,
   "id": "b3ab51b4-bd9e-4084-96ca-90ae784fbc29",
   "metadata": {},
   "outputs": [],
   "source": []
  }
 ],
 "metadata": {
  "kernelspec": {
   "display_name": "Julia 1.6.1",
   "language": "julia",
   "name": "julia-1.6"
  },
  "language_info": {
   "file_extension": ".jl",
   "mimetype": "application/julia",
   "name": "julia",
   "version": "1.6.1"
  }
 },
 "nbformat": 4,
 "nbformat_minor": 5
}
