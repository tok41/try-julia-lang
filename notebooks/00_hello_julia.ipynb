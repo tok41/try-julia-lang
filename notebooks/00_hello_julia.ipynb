{
 "cells": [
  {
   "cell_type": "markdown",
   "id": "f3a77269-6693-4f1b-bb9d-00f539e35e42",
   "metadata": {},
   "source": [
    "# Hello Julia\n",
    "\n",
    "とりあえずJuliaを触ってみる。触ってみるだけ。"
   ]
  },
  {
   "cell_type": "code",
   "execution_count": 1,
   "id": "9354e368-5bcd-4838-85e0-2c576b7f567b",
   "metadata": {},
   "outputs": [
    {
     "name": "stdout",
     "output_type": "stream",
     "text": [
      "Hello Julia!\n"
     ]
    }
   ],
   "source": [
    "s = \"Hello Julia!\"\n",
    "println(s);"
   ]
  },
  {
   "cell_type": "markdown",
   "id": "423b9ad6-a524-496f-bd1a-f6bed9a80426",
   "metadata": {},
   "source": [
    "# 基本構文"
   ]
  },
  {
   "cell_type": "markdown",
   "id": "0877d933-8ab5-4612-9347-a0c9c912b7cf",
   "metadata": {},
   "source": [
    "## 変数"
   ]
  },
  {
   "cell_type": "code",
   "execution_count": 2,
   "id": "5f4571bb-cd6c-4c5d-b932-8a8ec8384489",
   "metadata": {},
   "outputs": [
    {
     "data": {
      "text/plain": [
       "3.0"
      ]
     },
     "execution_count": 2,
     "metadata": {},
     "output_type": "execute_result"
    }
   ],
   "source": [
    "x = 1\n",
    "y = 2.0\n",
    "z = x + y"
   ]
  },
  {
   "cell_type": "markdown",
   "id": "39fe4ca3-21c1-44be-8e45-77ff6ffe977e",
   "metadata": {},
   "source": [
    "こういう書き方もできる。変数の前に数値を置くと暗黙的に乗算と解釈される。"
   ]
  },
  {
   "cell_type": "code",
   "execution_count": 3,
   "id": "311d5b1a-4370-4b9e-b60f-7b17c6b55e69",
   "metadata": {},
   "outputs": [
    {
     "data": {
      "text/plain": [
       "3"
      ]
     },
     "execution_count": 3,
     "metadata": {},
     "output_type": "execute_result"
    }
   ],
   "source": [
    "2x + 1"
   ]
  },
  {
   "cell_type": "markdown",
   "id": "a023d6c2-490f-466e-8901-9ad38ddcdb4b",
   "metadata": {},
   "source": [
    "## 定数"
   ]
  },
  {
   "cell_type": "code",
   "execution_count": 4,
   "id": "a8e4cfca-9286-49d4-b194-3d5655c422fc",
   "metadata": {},
   "outputs": [
    {
     "data": {
      "text/plain": [
       "1"
      ]
     },
     "execution_count": 4,
     "metadata": {},
     "output_type": "execute_result"
    }
   ],
   "source": [
    "const a = 1"
   ]
  },
  {
   "cell_type": "code",
   "execution_count": 5,
   "id": "2907df64-1949-44eb-ab57-8916188a0d8d",
   "metadata": {},
   "outputs": [
    {
     "name": "stderr",
     "output_type": "stream",
     "text": [
      "WARNING: redefinition of constant a. This may fail, cause incorrect answers, or produce other errors.\n"
     ]
    },
    {
     "data": {
      "text/plain": [
       "2"
      ]
     },
     "execution_count": 5,
     "metadata": {},
     "output_type": "execute_result"
    }
   ],
   "source": [
    "a = 2"
   ]
  },
  {
   "cell_type": "code",
   "execution_count": 6,
   "id": "10c0738e-f2d2-459d-bac5-8369bb2c0d99",
   "metadata": {},
   "outputs": [
    {
     "data": {
      "text/plain": [
       "π = 3.1415926535897..."
      ]
     },
     "execution_count": 6,
     "metadata": {},
     "output_type": "execute_result"
    }
   ],
   "source": [
    "pi"
   ]
  },
  {
   "cell_type": "code",
   "execution_count": 7,
   "id": "7a709465-4d96-465c-8cf9-ae77e05bcd3d",
   "metadata": {},
   "outputs": [
    {
     "ename": "LoadError",
     "evalue": "cannot assign a value to variable MathConstants.pi from module Main",
     "output_type": "error",
     "traceback": [
      "cannot assign a value to variable MathConstants.pi from module Main",
      "",
      "Stacktrace:",
      " [1] top-level scope",
      "   @ In[7]:1",
      " [2] eval",
      "   @ ./boot.jl:360 [inlined]",
      " [3] include_string(mapexpr::typeof(REPL.softscope), mod::Module, code::String, filename::String)",
      "   @ Base ./loading.jl:1094"
     ]
    }
   ],
   "source": [
    "pi = 3"
   ]
  },
  {
   "cell_type": "code",
   "execution_count": 8,
   "id": "1f34918b-922f-4e33-9c59-20c8713c3cfe",
   "metadata": {},
   "outputs": [
    {
     "data": {
      "text/plain": [
       "π = 3.1415926535897..."
      ]
     },
     "execution_count": 8,
     "metadata": {},
     "output_type": "execute_result"
    }
   ],
   "source": [
    "pi"
   ]
  },
  {
   "cell_type": "markdown",
   "id": "b183d85a-caca-46a1-89cd-94a50f249291",
   "metadata": {},
   "source": [
    "## 文字列の補間"
   ]
  },
  {
   "cell_type": "code",
   "execution_count": 9,
   "id": "2b34b4d4-dc84-45f7-8f10-c42bc54beabe",
   "metadata": {},
   "outputs": [
    {
     "data": {
      "text/plain": [
       "\"1 + 2 = 3\""
      ]
     },
     "execution_count": 9,
     "metadata": {},
     "output_type": "execute_result"
    }
   ],
   "source": [
    "\"1 + 2 = $(1 + 2)\""
   ]
  },
  {
   "cell_type": "markdown",
   "id": "55cd94e2-c417-42f7-8841-56e8ae3d237f",
   "metadata": {},
   "source": [
    "# 制御構文"
   ]
  },
  {
   "cell_type": "markdown",
   "id": "31efe1a1-c471-4efb-9b7d-6f908cde8201",
   "metadata": {},
   "source": [
    "## 条件評価"
   ]
  },
  {
   "cell_type": "code",
   "execution_count": 10,
   "id": "4114e78e-6b02-4906-baa0-a4e919098ba3",
   "metadata": {},
   "outputs": [
    {
     "name": "stdout",
     "output_type": "stream",
     "text": [
      "x < y\n"
     ]
    }
   ],
   "source": [
    "x = 1\n",
    "y = 2\n",
    "\n",
    "if x < y\n",
    "    println(\"x < y\")\n",
    "elseif x > y\n",
    "    println(\"x > y\")\n",
    "else\n",
    "    println(\"x = y\")\n",
    "end"
   ]
  },
  {
   "cell_type": "markdown",
   "id": "862ddcba-4b3f-435e-8cdb-fc66c6e41928",
   "metadata": {},
   "source": [
    "三項演算子"
   ]
  },
  {
   "cell_type": "code",
   "execution_count": 11,
   "id": "a073956b-b02b-4604-bf91-7aa3895b8491",
   "metadata": {},
   "outputs": [
    {
     "data": {
      "text/plain": [
       "\"x<y\""
      ]
     },
     "execution_count": 11,
     "metadata": {},
     "output_type": "execute_result"
    }
   ],
   "source": [
    "x < y ? \"x<y\" : \"x>=y\""
   ]
  },
  {
   "cell_type": "markdown",
   "id": "e65d968d-16c9-4e44-8f34-22ac351397d7",
   "metadata": {},
   "source": [
    "## 短絡評価\n",
    "\n",
    "複数の条件を評価する。\n",
    "最初に書かれた条件の結果によって二つ目の評価を飛ばすことがある。\n",
    "\n",
    "a && b の場合に、aの結果がFalseならこの結果は必ずFalseになるのでbの評価をしない。"
   ]
  },
  {
   "cell_type": "code",
   "execution_count": 12,
   "id": "df04d633-c583-43c7-9ec6-8d6030417206",
   "metadata": {},
   "outputs": [
    {
     "data": {
      "text/plain": [
       "false"
      ]
     },
     "execution_count": 12,
     "metadata": {},
     "output_type": "execute_result"
    }
   ],
   "source": [
    "n = 1\n",
    "n < 0 && error(\"n must be positive\")"
   ]
  },
  {
   "cell_type": "markdown",
   "id": "bc5173b6-921c-48ff-94e2-114e8bea62ca",
   "metadata": {},
   "source": [
    "## ループ"
   ]
  },
  {
   "cell_type": "code",
   "execution_count": 13,
   "id": "96292db6-d429-4dfa-b8a5-03ccfcbd3329",
   "metadata": {},
   "outputs": [
    {
     "name": "stdout",
     "output_type": "stream",
     "text": [
      "i = 1\n",
      "i = 2\n",
      "i = 3\n"
     ]
    }
   ],
   "source": [
    "i = 1\n",
    "while i <= 3\n",
    "    println(\"i = $(i)\")\n",
    "    i += 1\n",
    "end"
   ]
  },
  {
   "cell_type": "code",
   "execution_count": 14,
   "id": "4a528a9f-81ae-45bf-8f72-7da2c0a9121d",
   "metadata": {},
   "outputs": [
    {
     "name": "stdout",
     "output_type": "stream",
     "text": [
      "j = 1\n",
      "j = 2\n",
      "j = 3\n"
     ]
    }
   ],
   "source": [
    "for j = 1:3\n",
    "    println(\"j = $(j)\")\n",
    "end"
   ]
  },
  {
   "cell_type": "markdown",
   "id": "c42f6074-f1ff-4d17-a4da-311b0d14fd17",
   "metadata": {},
   "source": [
    "forやwhileなどのブロック内で使われる変数はブロック内のローカル変数となる。\n",
    "なので、ブロック外で使用するとエラーが出る。"
   ]
  },
  {
   "cell_type": "code",
   "execution_count": 15,
   "id": "e9a5f94c-a333-4fd2-a48a-efd171e34345",
   "metadata": {},
   "outputs": [
    {
     "ename": "LoadError",
     "evalue": "UndefVarError: j not defined",
     "output_type": "error",
     "traceback": [
      "UndefVarError: j not defined",
      "",
      "Stacktrace:",
      " [1] top-level scope",
      "   @ :0",
      " [2] eval",
      "   @ ./boot.jl:360 [inlined]",
      " [3] include_string(mapexpr::typeof(REPL.softscope), mod::Module, code::String, filename::String)",
      "   @ Base ./loading.jl:1094"
     ]
    }
   ],
   "source": [
    "j"
   ]
  },
  {
   "cell_type": "code",
   "execution_count": null,
   "id": "17f23681-e580-4ed0-8247-8597a7be266f",
   "metadata": {},
   "outputs": [],
   "source": []
  }
 ],
 "metadata": {
  "kernelspec": {
   "display_name": "Julia 1.6.1",
   "language": "julia",
   "name": "julia-1.6"
  },
  "language_info": {
   "file_extension": ".jl",
   "mimetype": "application/julia",
   "name": "julia",
   "version": "1.6.1"
  },
  "toc-autonumbering": true
 },
 "nbformat": 4,
 "nbformat_minor": 5
}
