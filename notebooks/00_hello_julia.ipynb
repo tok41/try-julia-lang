{
 "cells": [
  {
   "cell_type": "markdown",
   "id": "f3a77269-6693-4f1b-bb9d-00f539e35e42",
   "metadata": {},
   "source": [
    "# Hello Julia\n",
    "\n",
    "とりあえずJuliaを触ってみる。触ってみるだけ。"
   ]
  },
  {
   "cell_type": "code",
   "execution_count": 1,
   "id": "9354e368-5bcd-4838-85e0-2c576b7f567b",
   "metadata": {},
   "outputs": [
    {
     "name": "stdout",
     "output_type": "stream",
     "text": [
      "Hello Julia!\n"
     ]
    }
   ],
   "source": [
    "s = \"Hello Julia!\"\n",
    "println(s);"
   ]
  },
  {
   "cell_type": "markdown",
   "id": "423b9ad6-a524-496f-bd1a-f6bed9a80426",
   "metadata": {},
   "source": [
    "# 基本構文"
   ]
  },
  {
   "cell_type": "markdown",
   "id": "0877d933-8ab5-4612-9347-a0c9c912b7cf",
   "metadata": {},
   "source": [
    "## 変数"
   ]
  },
  {
   "cell_type": "code",
   "execution_count": 2,
   "id": "5f4571bb-cd6c-4c5d-b932-8a8ec8384489",
   "metadata": {},
   "outputs": [
    {
     "data": {
      "text/plain": [
       "3.0"
      ]
     },
     "execution_count": 2,
     "metadata": {},
     "output_type": "execute_result"
    }
   ],
   "source": [
    "x = 1\n",
    "y = 2.0\n",
    "z = x + y"
   ]
  },
  {
   "cell_type": "markdown",
   "id": "39fe4ca3-21c1-44be-8e45-77ff6ffe977e",
   "metadata": {},
   "source": [
    "こういう書き方もできる。変数の前に数値を置くと暗黙的に乗算と解釈される。"
   ]
  },
  {
   "cell_type": "code",
   "execution_count": 3,
   "id": "311d5b1a-4370-4b9e-b60f-7b17c6b55e69",
   "metadata": {},
   "outputs": [
    {
     "data": {
      "text/plain": [
       "3"
      ]
     },
     "execution_count": 3,
     "metadata": {},
     "output_type": "execute_result"
    }
   ],
   "source": [
    "2x + 1"
   ]
  },
  {
   "cell_type": "markdown",
   "id": "a023d6c2-490f-466e-8901-9ad38ddcdb4b",
   "metadata": {},
   "source": [
    "## 定数"
   ]
  },
  {
   "cell_type": "code",
   "execution_count": 4,
   "id": "a8e4cfca-9286-49d4-b194-3d5655c422fc",
   "metadata": {},
   "outputs": [
    {
     "data": {
      "text/plain": [
       "1"
      ]
     },
     "execution_count": 4,
     "metadata": {},
     "output_type": "execute_result"
    }
   ],
   "source": [
    "const a = 1"
   ]
  },
  {
   "cell_type": "code",
   "execution_count": 5,
   "id": "2907df64-1949-44eb-ab57-8916188a0d8d",
   "metadata": {},
   "outputs": [
    {
     "name": "stderr",
     "output_type": "stream",
     "text": [
      "WARNING: redefinition of constant a. This may fail, cause incorrect answers, or produce other errors.\n"
     ]
    },
    {
     "data": {
      "text/plain": [
       "2"
      ]
     },
     "execution_count": 5,
     "metadata": {},
     "output_type": "execute_result"
    }
   ],
   "source": [
    "a = 2"
   ]
  },
  {
   "cell_type": "code",
   "execution_count": 6,
   "id": "10c0738e-f2d2-459d-bac5-8369bb2c0d99",
   "metadata": {},
   "outputs": [
    {
     "data": {
      "text/plain": [
       "π = 3.1415926535897..."
      ]
     },
     "execution_count": 6,
     "metadata": {},
     "output_type": "execute_result"
    }
   ],
   "source": [
    "pi"
   ]
  },
  {
   "cell_type": "code",
   "execution_count": 7,
   "id": "7a709465-4d96-465c-8cf9-ae77e05bcd3d",
   "metadata": {},
   "outputs": [
    {
     "ename": "LoadError",
     "evalue": "cannot assign a value to variable MathConstants.pi from module Main",
     "output_type": "error",
     "traceback": [
      "cannot assign a value to variable MathConstants.pi from module Main",
      "",
      "Stacktrace:",
      " [1] top-level scope",
      "   @ In[7]:1",
      " [2] eval",
      "   @ ./boot.jl:360 [inlined]",
      " [3] include_string(mapexpr::typeof(REPL.softscope), mod::Module, code::String, filename::String)",
      "   @ Base ./loading.jl:1094"
     ]
    }
   ],
   "source": [
    "pi = 3"
   ]
  },
  {
   "cell_type": "code",
   "execution_count": 8,
   "id": "1f34918b-922f-4e33-9c59-20c8713c3cfe",
   "metadata": {},
   "outputs": [
    {
     "data": {
      "text/plain": [
       "π = 3.1415926535897..."
      ]
     },
     "execution_count": 8,
     "metadata": {},
     "output_type": "execute_result"
    }
   ],
   "source": [
    "pi"
   ]
  },
  {
   "cell_type": "markdown",
   "id": "b183d85a-caca-46a1-89cd-94a50f249291",
   "metadata": {},
   "source": [
    "## 文字列の補間"
   ]
  },
  {
   "cell_type": "code",
   "execution_count": 9,
   "id": "2b34b4d4-dc84-45f7-8f10-c42bc54beabe",
   "metadata": {},
   "outputs": [
    {
     "data": {
      "text/plain": [
       "\"1 + 2 = 3\""
      ]
     },
     "execution_count": 9,
     "metadata": {},
     "output_type": "execute_result"
    }
   ],
   "source": [
    "\"1 + 2 = $(1 + 2)\""
   ]
  },
  {
   "cell_type": "markdown",
   "id": "55cd94e2-c417-42f7-8841-56e8ae3d237f",
   "metadata": {},
   "source": [
    "# 制御構文"
   ]
  },
  {
   "cell_type": "markdown",
   "id": "31efe1a1-c471-4efb-9b7d-6f908cde8201",
   "metadata": {},
   "source": [
    "## 条件評価"
   ]
  },
  {
   "cell_type": "code",
   "execution_count": 10,
   "id": "4114e78e-6b02-4906-baa0-a4e919098ba3",
   "metadata": {},
   "outputs": [
    {
     "name": "stdout",
     "output_type": "stream",
     "text": [
      "x < y\n"
     ]
    }
   ],
   "source": [
    "x = 1\n",
    "y = 2\n",
    "\n",
    "if x < y\n",
    "    println(\"x < y\")\n",
    "elseif x > y\n",
    "    println(\"x > y\")\n",
    "else\n",
    "    println(\"x = y\")\n",
    "end"
   ]
  },
  {
   "cell_type": "markdown",
   "id": "862ddcba-4b3f-435e-8cdb-fc66c6e41928",
   "metadata": {},
   "source": [
    "三項演算子"
   ]
  },
  {
   "cell_type": "code",
   "execution_count": 11,
   "id": "a073956b-b02b-4604-bf91-7aa3895b8491",
   "metadata": {},
   "outputs": [
    {
     "data": {
      "text/plain": [
       "\"x<y\""
      ]
     },
     "execution_count": 11,
     "metadata": {},
     "output_type": "execute_result"
    }
   ],
   "source": [
    "x < y ? \"x<y\" : \"x>=y\""
   ]
  },
  {
   "cell_type": "markdown",
   "id": "e65d968d-16c9-4e44-8f34-22ac351397d7",
   "metadata": {},
   "source": [
    "## 短絡評価\n",
    "\n",
    "複数の条件を評価する。\n",
    "最初に書かれた条件の結果によって二つ目の評価を飛ばすことがある。\n",
    "\n",
    "a && b の場合に、aの結果がFalseならこの結果は必ずFalseになるのでbの評価をしない。"
   ]
  },
  {
   "cell_type": "code",
   "execution_count": 12,
   "id": "df04d633-c583-43c7-9ec6-8d6030417206",
   "metadata": {},
   "outputs": [
    {
     "data": {
      "text/plain": [
       "false"
      ]
     },
     "execution_count": 12,
     "metadata": {},
     "output_type": "execute_result"
    }
   ],
   "source": [
    "n = 1\n",
    "n < 0 && error(\"n must be positive\")"
   ]
  },
  {
   "cell_type": "markdown",
   "id": "bc5173b6-921c-48ff-94e2-114e8bea62ca",
   "metadata": {},
   "source": [
    "## ループ"
   ]
  },
  {
   "cell_type": "code",
   "execution_count": 13,
   "id": "96292db6-d429-4dfa-b8a5-03ccfcbd3329",
   "metadata": {},
   "outputs": [
    {
     "name": "stdout",
     "output_type": "stream",
     "text": [
      "i = 1\n",
      "i = 2\n",
      "i = 3\n"
     ]
    }
   ],
   "source": [
    "i = 1\n",
    "while i <= 3\n",
    "    println(\"i = $(i)\")\n",
    "    i += 1\n",
    "end"
   ]
  },
  {
   "cell_type": "code",
   "execution_count": 14,
   "id": "4a528a9f-81ae-45bf-8f72-7da2c0a9121d",
   "metadata": {},
   "outputs": [
    {
     "name": "stdout",
     "output_type": "stream",
     "text": [
      "j = 1\n",
      "j = 2\n",
      "j = 3\n"
     ]
    }
   ],
   "source": [
    "for j = 1:3\n",
    "    println(\"j = $(j)\")\n",
    "end"
   ]
  },
  {
   "cell_type": "markdown",
   "id": "c42f6074-f1ff-4d17-a4da-311b0d14fd17",
   "metadata": {},
   "source": [
    "forやwhileなどのブロック内で使われる変数はブロック内のローカル変数となる。\n",
    "なので、ブロック外で使用するとエラーが出る。"
   ]
  },
  {
   "cell_type": "code",
   "execution_count": 15,
   "id": "e9a5f94c-a333-4fd2-a48a-efd171e34345",
   "metadata": {},
   "outputs": [
    {
     "ename": "LoadError",
     "evalue": "UndefVarError: j not defined",
     "output_type": "error",
     "traceback": [
      "UndefVarError: j not defined",
      "",
      "Stacktrace:",
      " [1] top-level scope",
      "   @ :0",
      " [2] eval",
      "   @ ./boot.jl:360 [inlined]",
      " [3] include_string(mapexpr::typeof(REPL.softscope), mod::Module, code::String, filename::String)",
      "   @ Base ./loading.jl:1094"
     ]
    }
   ],
   "source": [
    "j"
   ]
  },
  {
   "cell_type": "markdown",
   "id": "d5e5b2c9-2809-4af4-9cfd-d91cd41a06ba",
   "metadata": {},
   "source": [
    "## 関数"
   ]
  },
  {
   "cell_type": "markdown",
   "id": "680e6f36-0f05-4614-b662-ff31920cf420",
   "metadata": {},
   "source": [
    "関数は基本は`function`~`end`で囲む。returnを明示しない場合、最後に評価された値が戻り値となる。\n",
    "\n",
    "型は指定してもしなくてもOK。"
   ]
  },
  {
   "cell_type": "code",
   "execution_count": 16,
   "id": "17f23681-e580-4ed0-8247-8597a7be266f",
   "metadata": {},
   "outputs": [
    {
     "data": {
      "text/plain": [
       "add (generic function with 1 method)"
      ]
     },
     "execution_count": 16,
     "metadata": {},
     "output_type": "execute_result"
    }
   ],
   "source": [
    "function add(x::Int, y::Int)::Int\n",
    "    return x + y\n",
    "end"
   ]
  },
  {
   "cell_type": "code",
   "execution_count": 17,
   "id": "71a09ec2-831b-49e0-9620-d5e25f256f8a",
   "metadata": {},
   "outputs": [
    {
     "data": {
      "text/plain": [
       "4"
      ]
     },
     "execution_count": 17,
     "metadata": {},
     "output_type": "execute_result"
    }
   ],
   "source": [
    "add(1, 3)"
   ]
  },
  {
   "cell_type": "markdown",
   "id": "83d73421-a74b-43c1-af18-b7dee8763a8e",
   "metadata": {},
   "source": [
    "1行で関数を書ける場合"
   ]
  },
  {
   "cell_type": "code",
   "execution_count": 18,
   "id": "836f9d0d-76a9-434f-a7cc-989c037363a2",
   "metadata": {},
   "outputs": [
    {
     "data": {
      "text/plain": [
       "add (generic function with 1 method)"
      ]
     },
     "execution_count": 18,
     "metadata": {},
     "output_type": "execute_result"
    }
   ],
   "source": [
    "add(x::Int, y::Int)::Float64 = x + y"
   ]
  },
  {
   "cell_type": "code",
   "execution_count": 19,
   "id": "346b0a23-34a8-45df-8690-d2ce681ae79f",
   "metadata": {},
   "outputs": [
    {
     "data": {
      "text/plain": [
       "7.0"
      ]
     },
     "execution_count": 19,
     "metadata": {},
     "output_type": "execute_result"
    }
   ],
   "source": [
    "add(3, 4)"
   ]
  },
  {
   "cell_type": "markdown",
   "id": "306e80fe-40bb-458b-8157-37dbe79220c7",
   "metadata": {},
   "source": [
    "戻り値が複数の場合"
   ]
  },
  {
   "cell_type": "code",
   "execution_count": 20,
   "id": "c33cbf98-a70b-4b86-8777-944f33d89024",
   "metadata": {},
   "outputs": [],
   "source": [
    "function add_diff(x, y)\n",
    "    return (x+y, x-y)\n",
    "end\n",
    "\n",
    "# add_diff(x, y) = (x+y, x-y);"
   ]
  },
  {
   "cell_type": "code",
   "execution_count": 21,
   "id": "24c48845-b787-4d18-8ce0-171470a76aa6",
   "metadata": {},
   "outputs": [
    {
     "data": {
      "text/plain": [
       "(7, 1)"
      ]
     },
     "execution_count": 21,
     "metadata": {},
     "output_type": "execute_result"
    }
   ],
   "source": [
    "add_diff(4, 3)"
   ]
  },
  {
   "cell_type": "markdown",
   "id": "734ef76a-809f-4c4e-96bd-ad50170cab17",
   "metadata": {},
   "source": [
    "可変長引数"
   ]
  },
  {
   "cell_type": "code",
   "execution_count": 22,
   "id": "59b30776-e1bc-411c-9310-1c22b8ab6c4a",
   "metadata": {},
   "outputs": [
    {
     "data": {
      "text/plain": [
       "f (generic function with 1 method)"
      ]
     },
     "execution_count": 22,
     "metadata": {},
     "output_type": "execute_result"
    }
   ],
   "source": [
    "function f(x...)\n",
    "    sum = 0\n",
    "    for i = 1:length(x)\n",
    "        sum += x[i]\n",
    "    end\n",
    "    return sum\n",
    "end"
   ]
  },
  {
   "cell_type": "code",
   "execution_count": 23,
   "id": "1eafe4c1-b015-4a25-8fc6-524b101bf740",
   "metadata": {},
   "outputs": [
    {
     "data": {
      "text/plain": [
       "1"
      ]
     },
     "execution_count": 23,
     "metadata": {},
     "output_type": "execute_result"
    }
   ],
   "source": [
    "f(1)"
   ]
  },
  {
   "cell_type": "code",
   "execution_count": 24,
   "id": "01e8135d-f7c5-484e-b194-9d7ce7e74c12",
   "metadata": {},
   "outputs": [
    {
     "data": {
      "text/plain": [
       "15"
      ]
     },
     "execution_count": 24,
     "metadata": {},
     "output_type": "execute_result"
    }
   ],
   "source": [
    "f(1,2,3,4,5)"
   ]
  },
  {
   "cell_type": "markdown",
   "id": "c70dd288-6c7d-425c-8984-dfa19f0c2570",
   "metadata": {},
   "source": [
    "オプショナル引数\n",
    "\n",
    "引数名を指定できないけど、デフォルト引数を指定できる。"
   ]
  },
  {
   "cell_type": "code",
   "execution_count": 25,
   "id": "24798c0e-c759-41d4-80c7-e70c83ba19a9",
   "metadata": {},
   "outputs": [
    {
     "data": {
      "text/plain": [
       "f_op (generic function with 2 methods)"
      ]
     },
     "execution_count": 25,
     "metadata": {},
     "output_type": "execute_result"
    }
   ],
   "source": [
    "function f_op(x, y=1)\n",
    "    return x + y\n",
    "end"
   ]
  },
  {
   "cell_type": "code",
   "execution_count": 26,
   "id": "d88f1dbd-dacb-41ae-a4e4-0a8f0387c941",
   "metadata": {},
   "outputs": [
    {
     "data": {
      "text/plain": [
       "2"
      ]
     },
     "execution_count": 26,
     "metadata": {},
     "output_type": "execute_result"
    }
   ],
   "source": [
    "f_op(1)"
   ]
  },
  {
   "cell_type": "code",
   "execution_count": 27,
   "id": "b23bd8ed-dc27-4e5a-9380-d8e7764859ab",
   "metadata": {},
   "outputs": [
    {
     "data": {
      "text/plain": [
       "1"
      ]
     },
     "execution_count": 27,
     "metadata": {},
     "output_type": "execute_result"
    }
   ],
   "source": [
    "f_op(1, 0)"
   ]
  },
  {
   "cell_type": "code",
   "execution_count": 28,
   "id": "3c978a4a-d2c9-4db8-adee-b1d6293dafb5",
   "metadata": {},
   "outputs": [
    {
     "ename": "LoadError",
     "evalue": "MethodError: no method matching f_op(::Int64; y=0)\n\u001b[0mClosest candidates are:\n\u001b[0m  f_op(::Any) at In[25]:1\u001b[91m got unsupported keyword argument \"y\"\u001b[39m\n\u001b[0m  f_op(::Any, \u001b[91m::Any\u001b[39m) at In[25]:1\u001b[91m got unsupported keyword argument \"y\"\u001b[39m",
     "output_type": "error",
     "traceback": [
      "MethodError: no method matching f_op(::Int64; y=0)\n\u001b[0mClosest candidates are:\n\u001b[0m  f_op(::Any) at In[25]:1\u001b[91m got unsupported keyword argument \"y\"\u001b[39m\n\u001b[0m  f_op(::Any, \u001b[91m::Any\u001b[39m) at In[25]:1\u001b[91m got unsupported keyword argument \"y\"\u001b[39m",
      "",
      "Stacktrace:",
      " [1] top-level scope",
      "   @ In[28]:1",
      " [2] eval",
      "   @ ./boot.jl:360 [inlined]",
      " [3] include_string(mapexpr::typeof(REPL.softscope), mod::Module, code::String, filename::String)",
      "   @ Base ./loading.jl:1094"
     ]
    }
   ],
   "source": [
    "f_op(1, y=0)"
   ]
  },
  {
   "cell_type": "markdown",
   "id": "a265156d-054f-4c11-aa7d-88b3accb7ad7",
   "metadata": {},
   "source": [
    "キーワード引数\n",
    "\n",
    "引数名を指定できる。"
   ]
  },
  {
   "cell_type": "code",
   "execution_count": 29,
   "id": "be663735-9024-4c50-9e52-c81b270a1643",
   "metadata": {},
   "outputs": [
    {
     "data": {
      "text/plain": [
       "f_kw (generic function with 1 method)"
      ]
     },
     "execution_count": 29,
     "metadata": {},
     "output_type": "execute_result"
    }
   ],
   "source": [
    "function f_kw(x; y=1)\n",
    "    return x + y\n",
    "end"
   ]
  },
  {
   "cell_type": "code",
   "execution_count": 30,
   "id": "1dc7200f-edd3-48f0-819b-d5c4280e245d",
   "metadata": {},
   "outputs": [
    {
     "data": {
      "text/plain": [
       "2"
      ]
     },
     "execution_count": 30,
     "metadata": {},
     "output_type": "execute_result"
    }
   ],
   "source": [
    "f_kw(1)"
   ]
  },
  {
   "cell_type": "code",
   "execution_count": 31,
   "id": "78c69c5e-a0e6-46e3-9bdc-b9699bf0c6d2",
   "metadata": {},
   "outputs": [
    {
     "data": {
      "text/plain": [
       "1"
      ]
     },
     "execution_count": 31,
     "metadata": {},
     "output_type": "execute_result"
    }
   ],
   "source": [
    "f_kw(1, y=0)"
   ]
  },
  {
   "cell_type": "code",
   "execution_count": 32,
   "id": "c2e28e1d-0f71-4a02-95e5-73e12953cc83",
   "metadata": {},
   "outputs": [
    {
     "ename": "LoadError",
     "evalue": "MethodError: no method matching f_kw(::Int64, ::Int64)\n\u001b[0mClosest candidates are:\n\u001b[0m  f_kw(::Any; y) at In[29]:1",
     "output_type": "error",
     "traceback": [
      "MethodError: no method matching f_kw(::Int64, ::Int64)\n\u001b[0mClosest candidates are:\n\u001b[0m  f_kw(::Any; y) at In[29]:1",
      "",
      "Stacktrace:",
      " [1] top-level scope",
      "   @ In[32]:1",
      " [2] eval",
      "   @ ./boot.jl:360 [inlined]",
      " [3] include_string(mapexpr::typeof(REPL.softscope), mod::Module, code::String, filename::String)",
      "   @ Base ./loading.jl:1094"
     ]
    }
   ],
   "source": [
    "f_kw(1, 0)"
   ]
  },
  {
   "cell_type": "markdown",
   "id": "41a7b64d-2a4b-49ca-968d-6f390a667087",
   "metadata": {},
   "source": [
    "# 型"
   ]
  },
  {
   "cell_type": "markdown",
   "id": "d7648c7f-e970-4271-b900-143052454979",
   "metadata": {},
   "source": [
    "## 複合型\n",
    "\n",
    "structで宣言する。複数の名前付きフィールドをまとめる。"
   ]
  },
  {
   "cell_type": "code",
   "execution_count": 33,
   "id": "520d97f5-721d-4741-ab05-1af65e53d8b3",
   "metadata": {},
   "outputs": [],
   "source": [
    "struct Point\n",
    "    x::Int\n",
    "    y::Int\n",
    "end"
   ]
  },
  {
   "cell_type": "code",
   "execution_count": 34,
   "id": "fe80d83f-9ca3-46d8-bf16-61ac6c50c180",
   "metadata": {},
   "outputs": [
    {
     "data": {
      "text/plain": [
       "distance (generic function with 1 method)"
      ]
     },
     "execution_count": 34,
     "metadata": {},
     "output_type": "execute_result"
    }
   ],
   "source": [
    "function distance(p::Point)\n",
    "    sqrt(p.x^2 + p.y^2)\n",
    "end"
   ]
  },
  {
   "cell_type": "code",
   "execution_count": 35,
   "id": "2694c656-d166-4c3f-ba72-356b630134c2",
   "metadata": {},
   "outputs": [
    {
     "data": {
      "text/plain": [
       "3.605551275463989"
      ]
     },
     "execution_count": 35,
     "metadata": {},
     "output_type": "execute_result"
    }
   ],
   "source": [
    "p = Point(2, 3)\n",
    "distance(p)"
   ]
  },
  {
   "cell_type": "code",
   "execution_count": 36,
   "id": "6c729b84-3891-43e1-a1d0-22c8f453b74b",
   "metadata": {},
   "outputs": [
    {
     "data": {
      "text/plain": [
       "2"
      ]
     },
     "execution_count": 36,
     "metadata": {},
     "output_type": "execute_result"
    }
   ],
   "source": [
    "p.x"
   ]
  },
  {
   "cell_type": "code",
   "execution_count": 37,
   "id": "fdc85770-f4ce-4fc8-b647-a2d9291c1f97",
   "metadata": {},
   "outputs": [
    {
     "data": {
      "text/plain": [
       "Point"
      ]
     },
     "execution_count": 37,
     "metadata": {},
     "output_type": "execute_result"
    }
   ],
   "source": [
    "Point(x) = Point(x, 0)"
   ]
  },
  {
   "cell_type": "code",
   "execution_count": 38,
   "id": "7de0006e-6587-4442-a97f-6aa499ea64e8",
   "metadata": {},
   "outputs": [
    {
     "data": {
      "text/plain": [
       "Point(1, 0)"
      ]
     },
     "execution_count": 38,
     "metadata": {},
     "output_type": "execute_result"
    }
   ],
   "source": [
    "p = Point(1)\n",
    "p"
   ]
  },
  {
   "cell_type": "code",
   "execution_count": 39,
   "id": "de79f769-6dcc-410a-8b24-f06fb50df6aa",
   "metadata": {},
   "outputs": [
    {
     "data": {
      "text/plain": [
       "Point(1, 5)"
      ]
     },
     "execution_count": 39,
     "metadata": {},
     "output_type": "execute_result"
    }
   ],
   "source": [
    "Point(1, 5)"
   ]
  },
  {
   "cell_type": "markdown",
   "id": "6d13a85b-cd29-497d-9345-601647455ea1",
   "metadata": {},
   "source": [
    "structで宣言したフィールドはオブジェクトの作成の後からは変更できなくなる"
   ]
  },
  {
   "cell_type": "code",
   "execution_count": 40,
   "id": "43de104c-0b29-4e9b-8691-613b7cabac09",
   "metadata": {},
   "outputs": [
    {
     "ename": "LoadError",
     "evalue": "setfield! immutable struct of type Point cannot be changed",
     "output_type": "error",
     "traceback": [
      "setfield! immutable struct of type Point cannot be changed",
      "",
      "Stacktrace:",
      " [1] setproperty!(x::Point, f::Symbol, v::Int64)",
      "   @ Base ./Base.jl:34",
      " [2] top-level scope",
      "   @ In[40]:1",
      " [3] eval",
      "   @ ./boot.jl:360 [inlined]",
      " [4] include_string(mapexpr::typeof(REPL.softscope), mod::Module, code::String, filename::String)",
      "   @ Base ./loading.jl:1094"
     ]
    }
   ],
   "source": [
    "p.x = 2"
   ]
  },
  {
   "cell_type": "markdown",
   "id": "b34b53aa-e4f9-4aea-9a35-fb52c73bfb7f",
   "metadata": {},
   "source": [
    "mutableなstruct宣言をすると、後からフィールドの値を変更できる"
   ]
  },
  {
   "cell_type": "markdown",
   "id": "1f57bb75-d839-4f72-8328-d5fe59452966",
   "metadata": {},
   "source": [
    "## パラメトリック型"
   ]
  },
  {
   "cell_type": "code",
   "execution_count": 41,
   "id": "16baa45e-7ffc-45c2-8919-64a740e3fba8",
   "metadata": {},
   "outputs": [],
   "source": [
    "mutable struct Point_p{T}\n",
    "    x::T\n",
    "    y::T\n",
    "end;"
   ]
  },
  {
   "cell_type": "code",
   "execution_count": 42,
   "id": "d1f8057e-77ed-45e7-85c7-4884572a29d4",
   "metadata": {},
   "outputs": [
    {
     "data": {
      "text/plain": [
       "Point_p{Int64}(2, 3)"
      ]
     },
     "execution_count": 42,
     "metadata": {},
     "output_type": "execute_result"
    }
   ],
   "source": [
    "p = Point_p(2, 3) # TはIntと解釈される"
   ]
  },
  {
   "cell_type": "code",
   "execution_count": 43,
   "id": "cc489df6-0e43-438d-9cee-7f388ef258d9",
   "metadata": {},
   "outputs": [
    {
     "data": {
      "text/plain": [
       "Point_p{Float64}(2.1, 3.0)"
      ]
     },
     "execution_count": 43,
     "metadata": {},
     "output_type": "execute_result"
    }
   ],
   "source": [
    "p = Point_p(2.1, 3.) # TはFloatと解釈される"
   ]
  },
  {
   "cell_type": "code",
   "execution_count": 44,
   "id": "42e2a79d-9713-4b2f-b5b1-0cc753849d2e",
   "metadata": {},
   "outputs": [
    {
     "data": {
      "text/plain": [
       "distance (generic function with 2 methods)"
      ]
     },
     "execution_count": 44,
     "metadata": {},
     "output_type": "execute_result"
    }
   ],
   "source": [
    "function distance(p::Point_p{T}) where T\n",
    "    sqrt(p.x^2 + p.y^2)\n",
    "end"
   ]
  },
  {
   "cell_type": "code",
   "execution_count": 45,
   "id": "522ae707-7094-4996-9bd8-4a2afeeb63b7",
   "metadata": {},
   "outputs": [
    {
     "data": {
      "text/plain": [
       "3.661966684720111"
      ]
     },
     "execution_count": 45,
     "metadata": {},
     "output_type": "execute_result"
    }
   ],
   "source": [
    "distance(p)"
   ]
  },
  {
   "cell_type": "markdown",
   "id": "17ef08a5-fa7a-4ffd-b749-868bc217bc4d",
   "metadata": {},
   "source": [
    "型によって動作を変える場合は、多重ディスパッチを利用する"
   ]
  },
  {
   "cell_type": "code",
   "execution_count": 46,
   "id": "06864f9c-1505-4150-a38e-9791c317bc3a",
   "metadata": {},
   "outputs": [],
   "source": [
    "function distance(p::Point_p{Int})\n",
    "    println(\"int\")\n",
    "    sqrt(p.x^2 + p.y^2)\n",
    "end;\n",
    "\n",
    "function distance(p::Point_p{Float64})\n",
    "    println(\"float64\")\n",
    "    sqrt(p.x^2 + p.y^2)\n",
    "end;"
   ]
  },
  {
   "cell_type": "code",
   "execution_count": 47,
   "id": "07e72e3b-8c47-454f-b69e-5f83340dffb3",
   "metadata": {},
   "outputs": [
    {
     "name": "stdout",
     "output_type": "stream",
     "text": [
      "int\n"
     ]
    },
    {
     "data": {
      "text/plain": [
       "3.605551275463989"
      ]
     },
     "execution_count": 47,
     "metadata": {},
     "output_type": "execute_result"
    }
   ],
   "source": [
    "p = Point_p(2, 3)\n",
    "distance(p)"
   ]
  },
  {
   "cell_type": "code",
   "execution_count": 48,
   "id": "5585e043-8c16-4d00-90a1-5763e915688e",
   "metadata": {},
   "outputs": [
    {
     "name": "stdout",
     "output_type": "stream",
     "text": [
      "float64\n"
     ]
    },
    {
     "data": {
      "text/plain": [
       "4.301162633521313"
      ]
     },
     "execution_count": 48,
     "metadata": {},
     "output_type": "execute_result"
    }
   ],
   "source": [
    "p = Point_p(2.5, 3.5)\n",
    "distance(p)"
   ]
  },
  {
   "cell_type": "code",
   "execution_count": null,
   "id": "3b7b77d1-59ce-4dc3-943b-42305fcd2f36",
   "metadata": {},
   "outputs": [],
   "source": []
  }
 ],
 "metadata": {
  "kernelspec": {
   "display_name": "Julia 1.6.1",
   "language": "julia",
   "name": "julia-1.6"
  },
  "language_info": {
   "file_extension": ".jl",
   "mimetype": "application/julia",
   "name": "julia",
   "version": "1.6.1"
  },
  "toc-autonumbering": true
 },
 "nbformat": 4,
 "nbformat_minor": 5
}
