{
 "cells": [
  {
   "cell_type": "markdown",
   "id": "f3a77269-6693-4f1b-bb9d-00f539e35e42",
   "metadata": {},
   "source": [
    "# Hello Julia\n",
    "\n",
    "とりあえずJuliaを触ってみる。触ってみるだけ。"
   ]
  },
  {
   "cell_type": "code",
   "execution_count": 1,
   "id": "9354e368-5bcd-4838-85e0-2c576b7f567b",
   "metadata": {},
   "outputs": [
    {
     "name": "stdout",
     "output_type": "stream",
     "text": [
      "Hello Julia!\n"
     ]
    }
   ],
   "source": [
    "s = \"Hello Julia!\"\n",
    "println(s);"
   ]
  },
  {
   "cell_type": "markdown",
   "id": "423b9ad6-a524-496f-bd1a-f6bed9a80426",
   "metadata": {},
   "source": [
    "# 基本構文"
   ]
  },
  {
   "cell_type": "markdown",
   "id": "0877d933-8ab5-4612-9347-a0c9c912b7cf",
   "metadata": {},
   "source": [
    "## 変数"
   ]
  },
  {
   "cell_type": "code",
   "execution_count": 2,
   "id": "5f4571bb-cd6c-4c5d-b932-8a8ec8384489",
   "metadata": {},
   "outputs": [
    {
     "data": {
      "text/plain": [
       "3.0"
      ]
     },
     "execution_count": 2,
     "metadata": {},
     "output_type": "execute_result"
    }
   ],
   "source": [
    "x = 1\n",
    "y = 2.0\n",
    "z = x + y"
   ]
  },
  {
   "cell_type": "markdown",
   "id": "39fe4ca3-21c1-44be-8e45-77ff6ffe977e",
   "metadata": {},
   "source": [
    "こういう書き方もできる。変数の前に数値を置くと暗黙的に乗算と解釈される。"
   ]
  },
  {
   "cell_type": "code",
   "execution_count": 3,
   "id": "311d5b1a-4370-4b9e-b60f-7b17c6b55e69",
   "metadata": {},
   "outputs": [
    {
     "data": {
      "text/plain": [
       "3"
      ]
     },
     "execution_count": 3,
     "metadata": {},
     "output_type": "execute_result"
    }
   ],
   "source": [
    "2x + 1"
   ]
  },
  {
   "cell_type": "markdown",
   "id": "a023d6c2-490f-466e-8901-9ad38ddcdb4b",
   "metadata": {},
   "source": [
    "## 定数"
   ]
  },
  {
   "cell_type": "code",
   "execution_count": 4,
   "id": "a8e4cfca-9286-49d4-b194-3d5655c422fc",
   "metadata": {},
   "outputs": [
    {
     "data": {
      "text/plain": [
       "1"
      ]
     },
     "execution_count": 4,
     "metadata": {},
     "output_type": "execute_result"
    }
   ],
   "source": [
    "const a = 1"
   ]
  },
  {
   "cell_type": "code",
   "execution_count": 5,
   "id": "2907df64-1949-44eb-ab57-8916188a0d8d",
   "metadata": {},
   "outputs": [
    {
     "name": "stderr",
     "output_type": "stream",
     "text": [
      "WARNING: redefinition of constant a. This may fail, cause incorrect answers, or produce other errors.\n"
     ]
    },
    {
     "data": {
      "text/plain": [
       "2"
      ]
     },
     "execution_count": 5,
     "metadata": {},
     "output_type": "execute_result"
    }
   ],
   "source": [
    "a = 2"
   ]
  },
  {
   "cell_type": "code",
   "execution_count": 6,
   "id": "10c0738e-f2d2-459d-bac5-8369bb2c0d99",
   "metadata": {},
   "outputs": [
    {
     "data": {
      "text/plain": [
       "π = 3.1415926535897..."
      ]
     },
     "execution_count": 6,
     "metadata": {},
     "output_type": "execute_result"
    }
   ],
   "source": [
    "pi"
   ]
  },
  {
   "cell_type": "code",
   "execution_count": 7,
   "id": "7a709465-4d96-465c-8cf9-ae77e05bcd3d",
   "metadata": {},
   "outputs": [
    {
     "ename": "LoadError",
     "evalue": "cannot assign a value to variable MathConstants.pi from module Main",
     "output_type": "error",
     "traceback": [
      "cannot assign a value to variable MathConstants.pi from module Main",
      "",
      "Stacktrace:",
      " [1] top-level scope",
      "   @ In[7]:1",
      " [2] eval",
      "   @ ./boot.jl:360 [inlined]",
      " [3] include_string(mapexpr::typeof(REPL.softscope), mod::Module, code::String, filename::String)",
      "   @ Base ./loading.jl:1094"
     ]
    }
   ],
   "source": [
    "pi = 3"
   ]
  },
  {
   "cell_type": "code",
   "execution_count": 8,
   "id": "1f34918b-922f-4e33-9c59-20c8713c3cfe",
   "metadata": {},
   "outputs": [
    {
     "data": {
      "text/plain": [
       "π = 3.1415926535897..."
      ]
     },
     "execution_count": 8,
     "metadata": {},
     "output_type": "execute_result"
    }
   ],
   "source": [
    "pi"
   ]
  },
  {
   "cell_type": "markdown",
   "id": "b183d85a-caca-46a1-89cd-94a50f249291",
   "metadata": {},
   "source": [
    "## 文字列の補間"
   ]
  },
  {
   "cell_type": "code",
   "execution_count": 9,
   "id": "2b34b4d4-dc84-45f7-8f10-c42bc54beabe",
   "metadata": {},
   "outputs": [
    {
     "data": {
      "text/plain": [
       "\"1 + 2 = 3\""
      ]
     },
     "execution_count": 9,
     "metadata": {},
     "output_type": "execute_result"
    }
   ],
   "source": [
    "\"1 + 2 = $(1 + 2)\""
   ]
  },
  {
   "cell_type": "markdown",
   "id": "55cd94e2-c417-42f7-8841-56e8ae3d237f",
   "metadata": {},
   "source": [
    "# 制御構文"
   ]
  },
  {
   "cell_type": "markdown",
   "id": "31efe1a1-c471-4efb-9b7d-6f908cde8201",
   "metadata": {},
   "source": [
    "## 条件評価"
   ]
  },
  {
   "cell_type": "code",
   "execution_count": 10,
   "id": "4114e78e-6b02-4906-baa0-a4e919098ba3",
   "metadata": {},
   "outputs": [
    {
     "name": "stdout",
     "output_type": "stream",
     "text": [
      "x < y\n"
     ]
    }
   ],
   "source": [
    "x = 1\n",
    "y = 2\n",
    "\n",
    "if x < y\n",
    "    println(\"x < y\")\n",
    "elseif x > y\n",
    "    println(\"x > y\")\n",
    "else\n",
    "    println(\"x = y\")\n",
    "end"
   ]
  },
  {
   "cell_type": "markdown",
   "id": "862ddcba-4b3f-435e-8cdb-fc66c6e41928",
   "metadata": {},
   "source": [
    "三項演算子"
   ]
  },
  {
   "cell_type": "code",
   "execution_count": 11,
   "id": "a073956b-b02b-4604-bf91-7aa3895b8491",
   "metadata": {},
   "outputs": [
    {
     "data": {
      "text/plain": [
       "\"x<y\""
      ]
     },
     "execution_count": 11,
     "metadata": {},
     "output_type": "execute_result"
    }
   ],
   "source": [
    "x < y ? \"x<y\" : \"x>=y\""
   ]
  },
  {
   "cell_type": "markdown",
   "id": "e65d968d-16c9-4e44-8f34-22ac351397d7",
   "metadata": {},
   "source": [
    "## 短絡評価\n",
    "\n",
    "複数の条件を評価する。\n",
    "最初に書かれた条件の結果によって二つ目の評価を飛ばすことがある。\n",
    "\n",
    "a && b の場合に、aの結果がFalseならこの結果は必ずFalseになるのでbの評価をしない。"
   ]
  },
  {
   "cell_type": "code",
   "execution_count": 12,
   "id": "df04d633-c583-43c7-9ec6-8d6030417206",
   "metadata": {},
   "outputs": [
    {
     "data": {
      "text/plain": [
       "false"
      ]
     },
     "execution_count": 12,
     "metadata": {},
     "output_type": "execute_result"
    }
   ],
   "source": [
    "n = 1\n",
    "n < 0 && error(\"n must be positive\")"
   ]
  },
  {
   "cell_type": "markdown",
   "id": "bc5173b6-921c-48ff-94e2-114e8bea62ca",
   "metadata": {},
   "source": [
    "## ループ"
   ]
  },
  {
   "cell_type": "code",
   "execution_count": 13,
   "id": "96292db6-d429-4dfa-b8a5-03ccfcbd3329",
   "metadata": {},
   "outputs": [
    {
     "name": "stdout",
     "output_type": "stream",
     "text": [
      "i = 1\n",
      "i = 2\n",
      "i = 3\n"
     ]
    }
   ],
   "source": [
    "i = 1\n",
    "while i <= 3\n",
    "    println(\"i = $(i)\")\n",
    "    i += 1\n",
    "end"
   ]
  },
  {
   "cell_type": "code",
   "execution_count": 14,
   "id": "4a528a9f-81ae-45bf-8f72-7da2c0a9121d",
   "metadata": {},
   "outputs": [
    {
     "name": "stdout",
     "output_type": "stream",
     "text": [
      "j = 1\n",
      "j = 2\n",
      "j = 3\n"
     ]
    }
   ],
   "source": [
    "for j = 1:3\n",
    "    println(\"j = $(j)\")\n",
    "end"
   ]
  },
  {
   "cell_type": "markdown",
   "id": "c42f6074-f1ff-4d17-a4da-311b0d14fd17",
   "metadata": {},
   "source": [
    "forやwhileなどのブロック内で使われる変数はブロック内のローカル変数となる。\n",
    "なので、ブロック外で使用するとエラーが出る。"
   ]
  },
  {
   "cell_type": "code",
   "execution_count": 15,
   "id": "e9a5f94c-a333-4fd2-a48a-efd171e34345",
   "metadata": {},
   "outputs": [
    {
     "ename": "LoadError",
     "evalue": "UndefVarError: j not defined",
     "output_type": "error",
     "traceback": [
      "UndefVarError: j not defined",
      "",
      "Stacktrace:",
      " [1] top-level scope",
      "   @ :0",
      " [2] eval",
      "   @ ./boot.jl:360 [inlined]",
      " [3] include_string(mapexpr::typeof(REPL.softscope), mod::Module, code::String, filename::String)",
      "   @ Base ./loading.jl:1094"
     ]
    }
   ],
   "source": [
    "j"
   ]
  },
  {
   "cell_type": "markdown",
   "id": "d5e5b2c9-2809-4af4-9cfd-d91cd41a06ba",
   "metadata": {},
   "source": [
    "## 関数"
   ]
  },
  {
   "cell_type": "markdown",
   "id": "680e6f36-0f05-4614-b662-ff31920cf420",
   "metadata": {},
   "source": [
    "関数は基本は`function`~`end`で囲む。returnを明示しない場合、最後に評価された値が戻り値となる。\n",
    "\n",
    "型は指定してもしなくてもOK。"
   ]
  },
  {
   "cell_type": "code",
   "execution_count": 16,
   "id": "17f23681-e580-4ed0-8247-8597a7be266f",
   "metadata": {},
   "outputs": [
    {
     "data": {
      "text/plain": [
       "add (generic function with 1 method)"
      ]
     },
     "execution_count": 16,
     "metadata": {},
     "output_type": "execute_result"
    }
   ],
   "source": [
    "function add(x::Int, y::Int)::Int\n",
    "    return x + y\n",
    "end"
   ]
  },
  {
   "cell_type": "code",
   "execution_count": 17,
   "id": "71a09ec2-831b-49e0-9620-d5e25f256f8a",
   "metadata": {},
   "outputs": [
    {
     "data": {
      "text/plain": [
       "4"
      ]
     },
     "execution_count": 17,
     "metadata": {},
     "output_type": "execute_result"
    }
   ],
   "source": [
    "add(1, 3)"
   ]
  },
  {
   "cell_type": "markdown",
   "id": "83d73421-a74b-43c1-af18-b7dee8763a8e",
   "metadata": {},
   "source": [
    "1行で関数を書ける場合"
   ]
  },
  {
   "cell_type": "code",
   "execution_count": 18,
   "id": "836f9d0d-76a9-434f-a7cc-989c037363a2",
   "metadata": {},
   "outputs": [
    {
     "data": {
      "text/plain": [
       "add (generic function with 1 method)"
      ]
     },
     "execution_count": 18,
     "metadata": {},
     "output_type": "execute_result"
    }
   ],
   "source": [
    "add(x::Int, y::Int)::Float64 = x + y"
   ]
  },
  {
   "cell_type": "code",
   "execution_count": 19,
   "id": "346b0a23-34a8-45df-8690-d2ce681ae79f",
   "metadata": {},
   "outputs": [
    {
     "data": {
      "text/plain": [
       "7.0"
      ]
     },
     "execution_count": 19,
     "metadata": {},
     "output_type": "execute_result"
    }
   ],
   "source": [
    "add(3, 4)"
   ]
  },
  {
   "cell_type": "markdown",
   "id": "306e80fe-40bb-458b-8157-37dbe79220c7",
   "metadata": {},
   "source": [
    "戻り値が複数の場合"
   ]
  },
  {
   "cell_type": "code",
   "execution_count": 20,
   "id": "c33cbf98-a70b-4b86-8777-944f33d89024",
   "metadata": {},
   "outputs": [],
   "source": [
    "function add_diff(x, y)\n",
    "    return (x+y, x-y)\n",
    "end\n",
    "\n",
    "# add_diff(x, y) = (x+y, x-y);"
   ]
  },
  {
   "cell_type": "code",
   "execution_count": 21,
   "id": "24c48845-b787-4d18-8ce0-171470a76aa6",
   "metadata": {},
   "outputs": [
    {
     "data": {
      "text/plain": [
       "(7, 1)"
      ]
     },
     "execution_count": 21,
     "metadata": {},
     "output_type": "execute_result"
    }
   ],
   "source": [
    "add_diff(4, 3)"
   ]
  },
  {
   "cell_type": "markdown",
   "id": "734ef76a-809f-4c4e-96bd-ad50170cab17",
   "metadata": {},
   "source": [
    "可変長引数"
   ]
  },
  {
   "cell_type": "code",
   "execution_count": 22,
   "id": "59b30776-e1bc-411c-9310-1c22b8ab6c4a",
   "metadata": {},
   "outputs": [
    {
     "data": {
      "text/plain": [
       "f (generic function with 1 method)"
      ]
     },
     "execution_count": 22,
     "metadata": {},
     "output_type": "execute_result"
    }
   ],
   "source": [
    "function f(x...)\n",
    "    sum = 0\n",
    "    for i = 1:length(x)\n",
    "        sum += x[i]\n",
    "    end\n",
    "    return sum\n",
    "end"
   ]
  },
  {
   "cell_type": "code",
   "execution_count": 23,
   "id": "1eafe4c1-b015-4a25-8fc6-524b101bf740",
   "metadata": {},
   "outputs": [
    {
     "data": {
      "text/plain": [
       "1"
      ]
     },
     "execution_count": 23,
     "metadata": {},
     "output_type": "execute_result"
    }
   ],
   "source": [
    "f(1)"
   ]
  },
  {
   "cell_type": "code",
   "execution_count": 24,
   "id": "01e8135d-f7c5-484e-b194-9d7ce7e74c12",
   "metadata": {},
   "outputs": [
    {
     "data": {
      "text/plain": [
       "15"
      ]
     },
     "execution_count": 24,
     "metadata": {},
     "output_type": "execute_result"
    }
   ],
   "source": [
    "f(1,2,3,4,5)"
   ]
  },
  {
   "cell_type": "markdown",
   "id": "c70dd288-6c7d-425c-8984-dfa19f0c2570",
   "metadata": {},
   "source": [
    "オプショナル引数\n",
    "\n",
    "引数名を指定できないけど、デフォルト引数を指定できる。"
   ]
  },
  {
   "cell_type": "code",
   "execution_count": 25,
   "id": "24798c0e-c759-41d4-80c7-e70c83ba19a9",
   "metadata": {},
   "outputs": [
    {
     "data": {
      "text/plain": [
       "f_op (generic function with 2 methods)"
      ]
     },
     "execution_count": 25,
     "metadata": {},
     "output_type": "execute_result"
    }
   ],
   "source": [
    "function f_op(x, y=1)\n",
    "    return x + y\n",
    "end"
   ]
  },
  {
   "cell_type": "code",
   "execution_count": 26,
   "id": "d88f1dbd-dacb-41ae-a4e4-0a8f0387c941",
   "metadata": {},
   "outputs": [
    {
     "data": {
      "text/plain": [
       "2"
      ]
     },
     "execution_count": 26,
     "metadata": {},
     "output_type": "execute_result"
    }
   ],
   "source": [
    "f_op(1)"
   ]
  },
  {
   "cell_type": "code",
   "execution_count": 27,
   "id": "b23bd8ed-dc27-4e5a-9380-d8e7764859ab",
   "metadata": {},
   "outputs": [
    {
     "data": {
      "text/plain": [
       "1"
      ]
     },
     "execution_count": 27,
     "metadata": {},
     "output_type": "execute_result"
    }
   ],
   "source": [
    "f_op(1, 0)"
   ]
  },
  {
   "cell_type": "code",
   "execution_count": 28,
   "id": "3c978a4a-d2c9-4db8-adee-b1d6293dafb5",
   "metadata": {},
   "outputs": [
    {
     "ename": "LoadError",
     "evalue": "MethodError: no method matching f_op(::Int64; y=0)\n\u001b[0mClosest candidates are:\n\u001b[0m  f_op(::Any) at In[25]:1\u001b[91m got unsupported keyword argument \"y\"\u001b[39m\n\u001b[0m  f_op(::Any, \u001b[91m::Any\u001b[39m) at In[25]:1\u001b[91m got unsupported keyword argument \"y\"\u001b[39m",
     "output_type": "error",
     "traceback": [
      "MethodError: no method matching f_op(::Int64; y=0)\n\u001b[0mClosest candidates are:\n\u001b[0m  f_op(::Any) at In[25]:1\u001b[91m got unsupported keyword argument \"y\"\u001b[39m\n\u001b[0m  f_op(::Any, \u001b[91m::Any\u001b[39m) at In[25]:1\u001b[91m got unsupported keyword argument \"y\"\u001b[39m",
      "",
      "Stacktrace:",
      " [1] top-level scope",
      "   @ In[28]:1",
      " [2] eval",
      "   @ ./boot.jl:360 [inlined]",
      " [3] include_string(mapexpr::typeof(REPL.softscope), mod::Module, code::String, filename::String)",
      "   @ Base ./loading.jl:1094"
     ]
    }
   ],
   "source": [
    "f_op(1, y=0)"
   ]
  },
  {
   "cell_type": "markdown",
   "id": "a265156d-054f-4c11-aa7d-88b3accb7ad7",
   "metadata": {},
   "source": [
    "キーワード引数\n",
    "\n",
    "引数名を指定できる。"
   ]
  },
  {
   "cell_type": "code",
   "execution_count": 29,
   "id": "be663735-9024-4c50-9e52-c81b270a1643",
   "metadata": {},
   "outputs": [
    {
     "data": {
      "text/plain": [
       "f_kw (generic function with 1 method)"
      ]
     },
     "execution_count": 29,
     "metadata": {},
     "output_type": "execute_result"
    }
   ],
   "source": [
    "function f_kw(x; y=1)\n",
    "    return x + y\n",
    "end"
   ]
  },
  {
   "cell_type": "code",
   "execution_count": 30,
   "id": "1dc7200f-edd3-48f0-819b-d5c4280e245d",
   "metadata": {},
   "outputs": [
    {
     "data": {
      "text/plain": [
       "2"
      ]
     },
     "execution_count": 30,
     "metadata": {},
     "output_type": "execute_result"
    }
   ],
   "source": [
    "f_kw(1)"
   ]
  },
  {
   "cell_type": "code",
   "execution_count": 31,
   "id": "78c69c5e-a0e6-46e3-9bdc-b9699bf0c6d2",
   "metadata": {},
   "outputs": [
    {
     "data": {
      "text/plain": [
       "1"
      ]
     },
     "execution_count": 31,
     "metadata": {},
     "output_type": "execute_result"
    }
   ],
   "source": [
    "f_kw(1, y=0)"
   ]
  },
  {
   "cell_type": "code",
   "execution_count": 32,
   "id": "c2e28e1d-0f71-4a02-95e5-73e12953cc83",
   "metadata": {},
   "outputs": [
    {
     "ename": "LoadError",
     "evalue": "MethodError: no method matching f_kw(::Int64, ::Int64)\n\u001b[0mClosest candidates are:\n\u001b[0m  f_kw(::Any; y) at In[29]:1",
     "output_type": "error",
     "traceback": [
      "MethodError: no method matching f_kw(::Int64, ::Int64)\n\u001b[0mClosest candidates are:\n\u001b[0m  f_kw(::Any; y) at In[29]:1",
      "",
      "Stacktrace:",
      " [1] top-level scope",
      "   @ In[32]:1",
      " [2] eval",
      "   @ ./boot.jl:360 [inlined]",
      " [3] include_string(mapexpr::typeof(REPL.softscope), mod::Module, code::String, filename::String)",
      "   @ Base ./loading.jl:1094"
     ]
    }
   ],
   "source": [
    "f_kw(1, 0)"
   ]
  },
  {
   "cell_type": "markdown",
   "id": "41a7b64d-2a4b-49ca-968d-6f390a667087",
   "metadata": {},
   "source": [
    "# 型"
   ]
  },
  {
   "cell_type": "markdown",
   "id": "d7648c7f-e970-4271-b900-143052454979",
   "metadata": {},
   "source": [
    "## 複合型\n",
    "\n",
    "structで宣言する。複数の名前付きフィールドをまとめる。"
   ]
  },
  {
   "cell_type": "code",
   "execution_count": 33,
   "id": "520d97f5-721d-4741-ab05-1af65e53d8b3",
   "metadata": {},
   "outputs": [],
   "source": [
    "struct Point\n",
    "    x::Int\n",
    "    y::Int\n",
    "end"
   ]
  },
  {
   "cell_type": "code",
   "execution_count": 34,
   "id": "fe80d83f-9ca3-46d8-bf16-61ac6c50c180",
   "metadata": {},
   "outputs": [
    {
     "data": {
      "text/plain": [
       "distance (generic function with 1 method)"
      ]
     },
     "execution_count": 34,
     "metadata": {},
     "output_type": "execute_result"
    }
   ],
   "source": [
    "function distance(p::Point)\n",
    "    sqrt(p.x^2 + p.y^2)\n",
    "end"
   ]
  },
  {
   "cell_type": "code",
   "execution_count": 35,
   "id": "2694c656-d166-4c3f-ba72-356b630134c2",
   "metadata": {},
   "outputs": [
    {
     "data": {
      "text/plain": [
       "3.605551275463989"
      ]
     },
     "execution_count": 35,
     "metadata": {},
     "output_type": "execute_result"
    }
   ],
   "source": [
    "p = Point(2, 3)\n",
    "distance(p)"
   ]
  },
  {
   "cell_type": "code",
   "execution_count": 36,
   "id": "6c729b84-3891-43e1-a1d0-22c8f453b74b",
   "metadata": {},
   "outputs": [
    {
     "data": {
      "text/plain": [
       "2"
      ]
     },
     "execution_count": 36,
     "metadata": {},
     "output_type": "execute_result"
    }
   ],
   "source": [
    "p.x"
   ]
  },
  {
   "cell_type": "code",
   "execution_count": 37,
   "id": "fdc85770-f4ce-4fc8-b647-a2d9291c1f97",
   "metadata": {},
   "outputs": [
    {
     "data": {
      "text/plain": [
       "Point"
      ]
     },
     "execution_count": 37,
     "metadata": {},
     "output_type": "execute_result"
    }
   ],
   "source": [
    "Point(x) = Point(x, 0)"
   ]
  },
  {
   "cell_type": "code",
   "execution_count": 38,
   "id": "7de0006e-6587-4442-a97f-6aa499ea64e8",
   "metadata": {},
   "outputs": [
    {
     "data": {
      "text/plain": [
       "Point(1, 0)"
      ]
     },
     "execution_count": 38,
     "metadata": {},
     "output_type": "execute_result"
    }
   ],
   "source": [
    "p = Point(1)\n",
    "p"
   ]
  },
  {
   "cell_type": "code",
   "execution_count": 39,
   "id": "de79f769-6dcc-410a-8b24-f06fb50df6aa",
   "metadata": {},
   "outputs": [
    {
     "data": {
      "text/plain": [
       "Point(1, 5)"
      ]
     },
     "execution_count": 39,
     "metadata": {},
     "output_type": "execute_result"
    }
   ],
   "source": [
    "Point(1, 5)"
   ]
  },
  {
   "cell_type": "markdown",
   "id": "6d13a85b-cd29-497d-9345-601647455ea1",
   "metadata": {},
   "source": [
    "structで宣言したフィールドはオブジェクトの作成の後からは変更できなくなる"
   ]
  },
  {
   "cell_type": "code",
   "execution_count": 40,
   "id": "43de104c-0b29-4e9b-8691-613b7cabac09",
   "metadata": {},
   "outputs": [
    {
     "ename": "LoadError",
     "evalue": "setfield! immutable struct of type Point cannot be changed",
     "output_type": "error",
     "traceback": [
      "setfield! immutable struct of type Point cannot be changed",
      "",
      "Stacktrace:",
      " [1] setproperty!(x::Point, f::Symbol, v::Int64)",
      "   @ Base ./Base.jl:34",
      " [2] top-level scope",
      "   @ In[40]:1",
      " [3] eval",
      "   @ ./boot.jl:360 [inlined]",
      " [4] include_string(mapexpr::typeof(REPL.softscope), mod::Module, code::String, filename::String)",
      "   @ Base ./loading.jl:1094"
     ]
    }
   ],
   "source": [
    "p.x = 2"
   ]
  },
  {
   "cell_type": "markdown",
   "id": "b34b53aa-e4f9-4aea-9a35-fb52c73bfb7f",
   "metadata": {},
   "source": [
    "mutableなstruct宣言をすると、後からフィールドの値を変更できる"
   ]
  },
  {
   "cell_type": "markdown",
   "id": "1f57bb75-d839-4f72-8328-d5fe59452966",
   "metadata": {},
   "source": [
    "## パラメトリック型"
   ]
  },
  {
   "cell_type": "code",
   "execution_count": 41,
   "id": "16baa45e-7ffc-45c2-8919-64a740e3fba8",
   "metadata": {},
   "outputs": [],
   "source": [
    "mutable struct Point_p{T}\n",
    "    x::T\n",
    "    y::T\n",
    "end;"
   ]
  },
  {
   "cell_type": "code",
   "execution_count": 42,
   "id": "d1f8057e-77ed-45e7-85c7-4884572a29d4",
   "metadata": {},
   "outputs": [
    {
     "data": {
      "text/plain": [
       "Point_p{Int64}(2, 3)"
      ]
     },
     "execution_count": 42,
     "metadata": {},
     "output_type": "execute_result"
    }
   ],
   "source": [
    "p = Point_p(2, 3) # TはIntと解釈される"
   ]
  },
  {
   "cell_type": "code",
   "execution_count": 43,
   "id": "cc489df6-0e43-438d-9cee-7f388ef258d9",
   "metadata": {},
   "outputs": [
    {
     "data": {
      "text/plain": [
       "Point_p{Float64}(2.1, 3.0)"
      ]
     },
     "execution_count": 43,
     "metadata": {},
     "output_type": "execute_result"
    }
   ],
   "source": [
    "p = Point_p(2.1, 3.) # TはFloatと解釈される"
   ]
  },
  {
   "cell_type": "code",
   "execution_count": 44,
   "id": "42e2a79d-9713-4b2f-b5b1-0cc753849d2e",
   "metadata": {},
   "outputs": [
    {
     "data": {
      "text/plain": [
       "distance (generic function with 2 methods)"
      ]
     },
     "execution_count": 44,
     "metadata": {},
     "output_type": "execute_result"
    }
   ],
   "source": [
    "function distance(p::Point_p{T}) where T\n",
    "    sqrt(p.x^2 + p.y^2)\n",
    "end"
   ]
  },
  {
   "cell_type": "code",
   "execution_count": 45,
   "id": "522ae707-7094-4996-9bd8-4a2afeeb63b7",
   "metadata": {},
   "outputs": [
    {
     "data": {
      "text/plain": [
       "3.661966684720111"
      ]
     },
     "execution_count": 45,
     "metadata": {},
     "output_type": "execute_result"
    }
   ],
   "source": [
    "distance(p)"
   ]
  },
  {
   "cell_type": "markdown",
   "id": "17ef08a5-fa7a-4ffd-b749-868bc217bc4d",
   "metadata": {},
   "source": [
    "型によって動作を変える場合は、多重ディスパッチを利用する"
   ]
  },
  {
   "cell_type": "code",
   "execution_count": 46,
   "id": "06864f9c-1505-4150-a38e-9791c317bc3a",
   "metadata": {},
   "outputs": [],
   "source": [
    "function distance(p::Point_p{Int})\n",
    "    println(\"int\")\n",
    "    sqrt(p.x^2 + p.y^2)\n",
    "end;\n",
    "\n",
    "function distance(p::Point_p{Float64})\n",
    "    println(\"float64\")\n",
    "    sqrt(p.x^2 + p.y^2)\n",
    "end;"
   ]
  },
  {
   "cell_type": "code",
   "execution_count": 47,
   "id": "07e72e3b-8c47-454f-b69e-5f83340dffb3",
   "metadata": {},
   "outputs": [
    {
     "name": "stdout",
     "output_type": "stream",
     "text": [
      "int\n"
     ]
    },
    {
     "data": {
      "text/plain": [
       "3.605551275463989"
      ]
     },
     "execution_count": 47,
     "metadata": {},
     "output_type": "execute_result"
    }
   ],
   "source": [
    "p = Point_p(2, 3)\n",
    "distance(p)"
   ]
  },
  {
   "cell_type": "code",
   "execution_count": 48,
   "id": "5585e043-8c16-4d00-90a1-5763e915688e",
   "metadata": {},
   "outputs": [
    {
     "name": "stdout",
     "output_type": "stream",
     "text": [
      "float64\n"
     ]
    },
    {
     "data": {
      "text/plain": [
       "4.301162633521313"
      ]
     },
     "execution_count": 48,
     "metadata": {},
     "output_type": "execute_result"
    }
   ],
   "source": [
    "p = Point_p(2.5, 3.5)\n",
    "distance(p)"
   ]
  },
  {
   "cell_type": "markdown",
   "id": "1b187335-eec9-4160-ae80-4acdfb3cdc01",
   "metadata": {},
   "source": [
    "# コレクション"
   ]
  },
  {
   "cell_type": "markdown",
   "id": "b7e906f6-cbee-4ff1-a4f6-1468e8e8c955",
   "metadata": {},
   "source": [
    "## タプル\n",
    "\n",
    "タプルはimmutableなので値を変更できない。\n",
    "\n",
    "可変長引数はタプルになる。\\"
   ]
  },
  {
   "cell_type": "code",
   "execution_count": 49,
   "id": "3b7b77d1-59ce-4dc3-943b-42305fcd2f36",
   "metadata": {},
   "outputs": [
    {
     "name": "stdout",
     "output_type": "stream",
     "text": [
      "(3, 5, 7)\n",
      "Tuple{Int64, Int64, Int64}\n"
     ]
    }
   ],
   "source": [
    "f(x...) = x;\n",
    "y = f(3, 5, 7)\n",
    "\n",
    "println(y)\n",
    "println(typeof(y))"
   ]
  },
  {
   "cell_type": "markdown",
   "id": "229f6a7f-48e4-4854-a67c-b2890d4f34dd",
   "metadata": {},
   "source": [
    "## リスト\n",
    "\n",
    "1次元のArrayをリストと呼ぶ(Pythonと一緒)"
   ]
  },
  {
   "cell_type": "code",
   "execution_count": 50,
   "id": "4f9b9849-1801-481a-a7ac-579b4e3deec0",
   "metadata": {},
   "outputs": [
    {
     "name": "stdout",
     "output_type": "stream",
     "text": [
      "[1, 2]\n",
      "[1, 2, 5]\n",
      "5\n",
      "[1, 9, 2]\n"
     ]
    }
   ],
   "source": [
    "l = [1, 2];\n",
    "println(l)\n",
    "\n",
    "push!(l, 5);\n",
    "println(l)\n",
    "\n",
    "z = pop!(l);\n",
    "println(z)\n",
    "\n",
    "insert!(l, 2, 9);\n",
    "println(l)"
   ]
  },
  {
   "cell_type": "markdown",
   "id": "f0b1a90f-ec85-47ed-9fe1-b2b7969cdb56",
   "metadata": {},
   "source": [
    "## 辞書"
   ]
  },
  {
   "cell_type": "code",
   "execution_count": 51,
   "id": "53616915-ab18-4109-99c8-c5a1dab65858",
   "metadata": {},
   "outputs": [
    {
     "data": {
      "text/plain": [
       "Dict{String, Int64} with 2 entries:\n",
       "  \"b\" => 2\n",
       "  \"a\" => 1"
      ]
     },
     "execution_count": 51,
     "metadata": {},
     "output_type": "execute_result"
    }
   ],
   "source": [
    "d = Dict{String, Int}()\n",
    "d[\"a\"] = 1\n",
    "d[\"b\"] = 2\n",
    "d"
   ]
  },
  {
   "cell_type": "code",
   "execution_count": 52,
   "id": "28e61aee-4f6e-4991-83b2-f844ca11a5ed",
   "metadata": {},
   "outputs": [
    {
     "name": "stdout",
     "output_type": "stream",
     "text": [
      "b\n",
      "2\n",
      "a\n",
      "1\n"
     ]
    }
   ],
   "source": [
    "for (key, value) in d\n",
    "    println(key)\n",
    "    println(value)\n",
    "end"
   ]
  },
  {
   "cell_type": "code",
   "execution_count": 53,
   "id": "8015d2b5-a29f-422a-b627-081480417df8",
   "metadata": {},
   "outputs": [
    {
     "name": "stdout",
     "output_type": "stream",
     "text": [
      "\"c\" => 5\n",
      "\"b\" => 2\n",
      "\"a\" => 1\n"
     ]
    }
   ],
   "source": [
    "d = Dict{String, Int}()\n",
    "d[\"a\"] = 1\n",
    "d[\"b\"] = 2\n",
    "d[\"c\"] = 5\n",
    "\n",
    "next = iterate(d)\n",
    "while next != nothing\n",
    "    (x, state) = next\n",
    "    println(x)\n",
    "    next = iterate(d, state)\n",
    "end"
   ]
  },
  {
   "cell_type": "code",
   "execution_count": 54,
   "id": "d93a536c-b809-4c3b-9d8a-523723c886cc",
   "metadata": {},
   "outputs": [
    {
     "data": {
      "text/plain": [
       "(\"c\" => 5, 5)"
      ]
     },
     "execution_count": 54,
     "metadata": {},
     "output_type": "execute_result"
    }
   ],
   "source": [
    "d = Dict{String, Int}()\n",
    "d[\"a\"] = 1\n",
    "d[\"b\"] = 2\n",
    "d[\"c\"] = 5\n",
    "\n",
    "next = iterate(d)"
   ]
  },
  {
   "cell_type": "code",
   "execution_count": 55,
   "id": "10d67a83-56bf-48fb-b17f-50c3f7b71abd",
   "metadata": {},
   "outputs": [
    {
     "name": "stdout",
     "output_type": "stream",
     "text": [
      "1\n",
      "2\n",
      "3\n",
      "5\n",
      "7\n",
      "9\n"
     ]
    }
   ],
   "source": [
    "l = [1, 2, 3, 5, 7, 9];\n",
    "next = iterate(l)\n",
    "while next != nothing\n",
    "    (x, state) = next\n",
    "    println(x)\n",
    "    next = iterate(l, state)\n",
    "end"
   ]
  },
  {
   "cell_type": "code",
   "execution_count": 56,
   "id": "72196951-03a2-43d5-9ac9-f6e112726d5c",
   "metadata": {},
   "outputs": [
    {
     "data": {
      "text/plain": [
       "(1, 2)"
      ]
     },
     "execution_count": 56,
     "metadata": {},
     "output_type": "execute_result"
    }
   ],
   "source": [
    "l = [1, 2, 3, 5, 7, 9];\n",
    "next = iterate(l)"
   ]
  },
  {
   "cell_type": "markdown",
   "id": "cad39077-b72a-4214-bfd5-6cda15e7b269",
   "metadata": {},
   "source": [
    "# 多次元配列"
   ]
  },
  {
   "cell_type": "code",
   "execution_count": 57,
   "id": "49df12a2-3299-4411-88e3-d2261e10b7cd",
   "metadata": {},
   "outputs": [
    {
     "data": {
      "text/plain": [
       "3×2 Matrix{Float32}:\n",
       " 0.0      0.0\n",
       " 0.0      1.0f-45\n",
       " 1.0f-45  0.0"
      ]
     },
     "execution_count": 57,
     "metadata": {},
     "output_type": "execute_result"
    }
   ],
   "source": [
    "# 値が初期化されない3x2の多次元配列\n",
    "Array{Float32}(undef, 3, 2)"
   ]
  },
  {
   "cell_type": "code",
   "execution_count": 58,
   "id": "648a6201-27fe-44df-9d41-7444bdd8f726",
   "metadata": {},
   "outputs": [
    {
     "data": {
      "text/plain": [
       "3×2 Matrix{Float32}:\n",
       " 1.0  1.0\n",
       " 1.0  1.0\n",
       " 1.0  1.0"
      ]
     },
     "execution_count": 58,
     "metadata": {},
     "output_type": "execute_result"
    }
   ],
   "source": [
    "ones(Float32, 3, 2)"
   ]
  },
  {
   "cell_type": "code",
   "execution_count": 59,
   "id": "23ff772e-77e7-4a60-a677-3952b1affdc3",
   "metadata": {},
   "outputs": [
    {
     "data": {
      "text/plain": [
       "2×3 Matrix{Float32}:\n",
       " 0.744162  0.722148  0.506676\n",
       " 0.823919  0.378753  0.667184"
      ]
     },
     "execution_count": 59,
     "metadata": {},
     "output_type": "execute_result"
    }
   ],
   "source": [
    "rand(Float32, 2, 3)"
   ]
  },
  {
   "cell_type": "code",
   "execution_count": 60,
   "id": "808c7e55-08cc-47ab-873f-258416b7a696",
   "metadata": {},
   "outputs": [
    {
     "data": {
      "text/plain": [
       "2×3×2 Array{Float32, 3}:\n",
       "[:, :, 1] =\n",
       " 0.185149  0.971972  0.46967\n",
       " 0.674011  0.55657   0.0756104\n",
       "\n",
       "[:, :, 2] =\n",
       " 0.264081  0.0126067  0.562862\n",
       " 0.403037  0.167569   0.465194"
      ]
     },
     "execution_count": 60,
     "metadata": {},
     "output_type": "execute_result"
    }
   ],
   "source": [
    "rand(Float32, 2, 3, 2)"
   ]
  },
  {
   "cell_type": "code",
   "execution_count": 61,
   "id": "458c9513-9baa-4a4a-8747-72373f6b5c62",
   "metadata": {},
   "outputs": [
    {
     "data": {
      "text/plain": [
       "(3, 2)"
      ]
     },
     "execution_count": 61,
     "metadata": {},
     "output_type": "execute_result"
    }
   ],
   "source": [
    "A = rand(Float32, 3, 2);\n",
    "size(A)"
   ]
  },
  {
   "cell_type": "code",
   "execution_count": 62,
   "id": "494728ff-1300-412b-a508-4e32b9852fb0",
   "metadata": {},
   "outputs": [
    {
     "data": {
      "text/plain": [
       "(1, 3)"
      ]
     },
     "execution_count": 62,
     "metadata": {},
     "output_type": "execute_result"
    }
   ],
   "source": [
    "strides(A)"
   ]
  },
  {
   "cell_type": "code",
   "execution_count": 63,
   "id": "f36e7088-3fef-4aea-9469-87154dee8cf2",
   "metadata": {},
   "outputs": [
    {
     "data": {
      "text/plain": [
       "3×2 Matrix{Float32}:\n",
       " 0.948274  0.403252\n",
       " 0.259121  0.763557\n",
       " 0.46172   0.716286"
      ]
     },
     "execution_count": 63,
     "metadata": {},
     "output_type": "execute_result"
    }
   ],
   "source": [
    "A"
   ]
  },
  {
   "cell_type": "code",
   "execution_count": 64,
   "id": "71d1a0ad-b850-445e-ba81-c89143fbe494",
   "metadata": {},
   "outputs": [
    {
     "data": {
      "text/plain": [
       "0.403252f0"
      ]
     },
     "execution_count": 64,
     "metadata": {},
     "output_type": "execute_result"
    }
   ],
   "source": [
    "A[1,2]"
   ]
  },
  {
   "cell_type": "code",
   "execution_count": 65,
   "id": "fbcc0b05-25da-4db6-a2a4-7a9615aae44b",
   "metadata": {},
   "outputs": [
    {
     "data": {
      "text/plain": [
       "3-element Vector{Float32}:\n",
       " 0.9482744\n",
       " 0.25912058\n",
       " 0.46171963"
      ]
     },
     "execution_count": 65,
     "metadata": {},
     "output_type": "execute_result"
    }
   ],
   "source": [
    "A[:,1]"
   ]
  },
  {
   "cell_type": "code",
   "execution_count": 66,
   "id": "008b243b-5806-4c9a-927c-5f0e19747d8d",
   "metadata": {},
   "outputs": [
    {
     "data": {
      "text/plain": [
       "3×2 Matrix{Float32}:\n",
       " 0.948274  0.403252\n",
       " 0.259121  0.763557\n",
       " 1.0       0.716286"
      ]
     },
     "execution_count": 66,
     "metadata": {},
     "output_type": "execute_result"
    }
   ],
   "source": [
    "A[3, 1] = 1.0\n",
    "A"
   ]
  },
  {
   "cell_type": "markdown",
   "id": "220b34bf-2b4a-4ae5-b8a2-3c63d6a7bb31",
   "metadata": {},
   "source": [
    "ドット演算子は要素毎の演算となる（matlabみたいな）"
   ]
  },
  {
   "cell_type": "code",
   "execution_count": 67,
   "id": "6fb6ead0-f6cc-4fa9-ac37-bc813b784693",
   "metadata": {},
   "outputs": [
    {
     "data": {
      "text/plain": [
       "3×3 Matrix{Float32}:\n",
       " 0.269472  0.796187  0.77052\n",
       " 0.91752   0.4603    0.334679\n",
       " 0.977406  0.62454   0.496514"
      ]
     },
     "execution_count": 67,
     "metadata": {},
     "output_type": "execute_result"
    }
   ],
   "source": [
    "A = rand(Float32, 3, 3)"
   ]
  },
  {
   "cell_type": "code",
   "execution_count": 68,
   "id": "516b42cb-0a3f-4450-a8f5-50043ba06d6c",
   "metadata": {},
   "outputs": [
    {
     "data": {
      "text/plain": [
       "3×1 Matrix{Float32}:\n",
       " 1.0\n",
       " 1.0\n",
       " 1.0"
      ]
     },
     "execution_count": 68,
     "metadata": {},
     "output_type": "execute_result"
    }
   ],
   "source": [
    "B = ones(Float32, 3, 1)"
   ]
  },
  {
   "cell_type": "code",
   "execution_count": 69,
   "id": "a5c02530-8119-4be8-bf17-4dd1520a4d67",
   "metadata": {},
   "outputs": [
    {
     "ename": "LoadError",
     "evalue": "DimensionMismatch(\"dimensions must match: a has dims (Base.OneTo(3), Base.OneTo(3)), b has dims (Base.OneTo(3), Base.OneTo(1)), mismatch at 2\")",
     "output_type": "error",
     "traceback": [
      "DimensionMismatch(\"dimensions must match: a has dims (Base.OneTo(3), Base.OneTo(3)), b has dims (Base.OneTo(3), Base.OneTo(1)), mismatch at 2\")",
      "",
      "Stacktrace:",
      " [1] promote_shape",
      "   @ ./indices.jl:178 [inlined]",
      " [2] promote_shape(a::Matrix{Float32}, b::Matrix{Float32})",
      "   @ Base ./indices.jl:169",
      " [3] +(A::Matrix{Float32}, Bs::Matrix{Float32})",
      "   @ Base ./arraymath.jl:45",
      " [4] top-level scope",
      "   @ In[69]:1",
      " [5] eval",
      "   @ ./boot.jl:360 [inlined]",
      " [6] include_string(mapexpr::typeof(REPL.softscope), mod::Module, code::String, filename::String)",
      "   @ Base ./loading.jl:1094"
     ]
    }
   ],
   "source": [
    "A + B"
   ]
  },
  {
   "cell_type": "code",
   "execution_count": 70,
   "id": "b6875f55-0f4d-4abd-a83b-b160fef47c5f",
   "metadata": {},
   "outputs": [
    {
     "data": {
      "text/plain": [
       "3×3 Matrix{Float32}:\n",
       " 1.26947  1.79619  1.77052\n",
       " 1.91752  1.4603   1.33468\n",
       " 1.97741  1.62454  1.49651"
      ]
     },
     "execution_count": 70,
     "metadata": {},
     "output_type": "execute_result"
    }
   ],
   "source": [
    "A .+ B"
   ]
  },
  {
   "cell_type": "markdown",
   "id": "7d02f8ea-b2a9-4bda-91fb-6974825ffed5",
   "metadata": {},
   "source": [
    "スカラを処理する関数を定義して、行列演算にする場合もドット演算子が使える"
   ]
  },
  {
   "cell_type": "code",
   "execution_count": 71,
   "id": "d2469632-ab79-41ff-a2fd-002f42cfad02",
   "metadata": {},
   "outputs": [],
   "source": [
    "sigmoid(x::Float64) = 1.0 / (1.0 + exp(-x));"
   ]
  },
  {
   "cell_type": "code",
   "execution_count": 72,
   "id": "e883772e-7f58-4cd5-a54f-aef8e8e27a59",
   "metadata": {},
   "outputs": [
    {
     "data": {
      "text/plain": [
       "0.5"
      ]
     },
     "execution_count": 72,
     "metadata": {},
     "output_type": "execute_result"
    }
   ],
   "source": [
    "sigmoid(0.0)"
   ]
  },
  {
   "cell_type": "code",
   "execution_count": 85,
   "id": "567ad33a-e7ef-455e-9e65-2c7570e57704",
   "metadata": {},
   "outputs": [
    {
     "data": {
      "text/plain": [
       "3×3 Matrix{Float64}:\n",
       " 0.48313    0.91538   0.380251\n",
       " 0.961745   0.943753  0.598667\n",
       " 0.0416099  0.151734  0.769571"
      ]
     },
     "execution_count": 85,
     "metadata": {},
     "output_type": "execute_result"
    }
   ],
   "source": [
    "A = rand(Float64, 3, 3)"
   ]
  },
  {
   "cell_type": "code",
   "execution_count": 86,
   "id": "ed757351-a148-4c94-84f7-f68893dcd603",
   "metadata": {},
   "outputs": [
    {
     "data": {
      "text/plain": [
       "3×3 Matrix{Float64}:\n",
       " 0.618487  0.7141    0.593934\n",
       " 0.723471  0.719857  0.645351\n",
       " 0.510401  0.537861  0.683428"
      ]
     },
     "execution_count": 86,
     "metadata": {},
     "output_type": "execute_result"
    }
   ],
   "source": [
    "sigmoid.(A)"
   ]
  },
  {
   "cell_type": "markdown",
   "id": "c2723adf-71ee-4412-b11a-7038ac6b1d96",
   "metadata": {},
   "source": [
    "mapを使っても同じことが書ける"
   ]
  },
  {
   "cell_type": "code",
   "execution_count": 87,
   "id": "7c25e1a8-5463-4164-a9fd-d8ef5065b3ae",
   "metadata": {},
   "outputs": [
    {
     "data": {
      "text/plain": [
       "3×3 Matrix{Float64}:\n",
       " 0.618487  0.7141    0.593934\n",
       " 0.723471  0.719857  0.645351\n",
       " 0.510401  0.537861  0.683428"
      ]
     },
     "execution_count": 87,
     "metadata": {},
     "output_type": "execute_result"
    }
   ],
   "source": [
    "map(sigmoid, A)"
   ]
  },
  {
   "cell_type": "markdown",
   "id": "8965cf6c-11f8-4449-8c5c-73046cb2f20c",
   "metadata": {},
   "source": [
    "# モジュール"
   ]
  },
  {
   "cell_type": "markdown",
   "id": "13c616a4-9746-412d-a3bc-322695b3472e",
   "metadata": {},
   "source": [
    "既存モジュールから名前を取り込む（既存のモジュールを使う）には `using` を使う\n",
    "\n",
    "```\n",
    "using Statistics: mean\n",
    "```\n",
    "\n",
    "のようにして、特定の名前だけを取り込むこともできる。"
   ]
  },
  {
   "cell_type": "code",
   "execution_count": 75,
   "id": "1db6959e-4ec1-42d1-af60-cbdfa5876697",
   "metadata": {},
   "outputs": [],
   "source": [
    "using Statistics"
   ]
  },
  {
   "cell_type": "code",
   "execution_count": 76,
   "id": "f2bdc274-e9a0-4ab0-87e3-3fc9d2d14a25",
   "metadata": {},
   "outputs": [
    {
     "data": {
      "text/plain": [
       "2.0"
      ]
     },
     "execution_count": 76,
     "metadata": {},
     "output_type": "execute_result"
    }
   ],
   "source": [
    "mean([1,2,3])"
   ]
  },
  {
   "cell_type": "code",
   "execution_count": 77,
   "id": "cc380ed8-ee2a-4b55-b743-344422f47c2b",
   "metadata": {},
   "outputs": [],
   "source": [
    "using Statistics: Statistics"
   ]
  },
  {
   "cell_type": "code",
   "execution_count": 78,
   "id": "dbd55175-626a-40e6-9f9a-2e588f89051f",
   "metadata": {},
   "outputs": [
    {
     "data": {
      "text/plain": [
       "2.5"
      ]
     },
     "execution_count": 78,
     "metadata": {},
     "output_type": "execute_result"
    }
   ],
   "source": [
    "Statistics.mean([1,2,3,4])"
   ]
  },
  {
   "cell_type": "markdown",
   "id": "7b42a2c7-9694-42b4-a905-895f40604018",
   "metadata": {},
   "source": [
    "「モジュール」を取り込んで、モジュールを通してその中の名前を参照できる。こうすると、意図しない名前の衝突が避けられる"
   ]
  },
  {
   "cell_type": "markdown",
   "id": "ed9afaac-433a-47ca-a4e7-395853c54daa",
   "metadata": {},
   "source": [
    "モジュールの定義には `module` を使う。慣習として、モジュール内ではインデントしない（なんで？？？）"
   ]
  },
  {
   "cell_type": "code",
   "execution_count": 79,
   "id": "1461815c-35f6-46d9-9d13-01eb555d5204",
   "metadata": {},
   "outputs": [
    {
     "data": {
      "text/plain": [
       "Main.Greeting"
      ]
     },
     "execution_count": 79,
     "metadata": {},
     "output_type": "execute_result"
    }
   ],
   "source": [
    "module Greeting\n",
    "hello(name) = println(\"Hello, $(name).\")\n",
    "end"
   ]
  },
  {
   "cell_type": "code",
   "execution_count": 80,
   "id": "7b32eba2-a11f-423d-acdb-0d24eb92b18b",
   "metadata": {},
   "outputs": [
    {
     "name": "stdout",
     "output_type": "stream",
     "text": [
      "Hello, julia.\n"
     ]
    }
   ],
   "source": [
    "Greeting.hello(\"julia\")"
   ]
  },
  {
   "cell_type": "code",
   "execution_count": 81,
   "id": "2ce71041-f4e6-4e86-afa2-7fe9f9ae52db",
   "metadata": {},
   "outputs": [
    {
     "data": {
      "text/plain": [
       "Main.Greeting2"
      ]
     },
     "execution_count": 81,
     "metadata": {},
     "output_type": "execute_result"
    }
   ],
   "source": [
    "module Greeting2\n",
    "hello(name) = println(\"Hello, $(name).\")\n",
    "function hellohello(name)\n",
    "    println(\"Hello, Hello, $(name).\")\n",
    "end\n",
    "end"
   ]
  },
  {
   "cell_type": "code",
   "execution_count": 82,
   "id": "f2ad6edf-1b6e-4dc0-98cf-665455b53b49",
   "metadata": {},
   "outputs": [
    {
     "name": "stdout",
     "output_type": "stream",
     "text": [
      "Hello, Hello, jul.\n"
     ]
    }
   ],
   "source": [
    "Greeting2.hellohello(\"jul\")"
   ]
  },
  {
   "cell_type": "markdown",
   "id": "4ec539dc-ef9b-4ee5-9a22-b3d92c27c627",
   "metadata": {},
   "source": [
    "using で定義したmoduleの名前を取り込む。　LOAD_PATHに指定されているpathから探すので、相対パスを指定する"
   ]
  },
  {
   "cell_type": "code",
   "execution_count": 83,
   "id": "459ae240-5092-4b13-9c8e-59a6ecb224c6",
   "metadata": {},
   "outputs": [],
   "source": [
    "using .Greeting2"
   ]
  },
  {
   "cell_type": "code",
   "execution_count": 84,
   "id": "61334705-7433-472d-8ee1-7325996ecab4",
   "metadata": {},
   "outputs": [
    {
     "ename": "LoadError",
     "evalue": "UndefVarError: hello not defined",
     "output_type": "error",
     "traceback": [
      "UndefVarError: hello not defined",
      "",
      "Stacktrace:",
      " [1] top-level scope",
      "   @ In[84]:1",
      " [2] eval",
      "   @ ./boot.jl:360 [inlined]",
      " [3] include_string(mapexpr::typeof(REPL.softscope), mod::Module, code::String, filename::String)",
      "   @ Base ./loading.jl:1094"
     ]
    }
   ],
   "source": [
    "hello(\"julia\")"
   ]
  },
  {
   "cell_type": "markdown",
   "id": "b11a678f-6fbe-4a80-8361-0de99d6fb46a",
   "metadata": {},
   "source": [
    "??名前が取り込まれてないぞ？？？？？"
   ]
  },
  {
   "cell_type": "markdown",
   "id": "267cc3e0-bb11-48f9-a6a1-48fb024351d5",
   "metadata": {},
   "source": [
    "`include`を使うと、ファイルを取り込むことができる。\n",
    "\n",
    "取り込んだファイルが`include`を書いたところで展開されるようになる。"
   ]
  },
  {
   "cell_type": "code",
   "execution_count": 88,
   "id": "17a382ac-21d8-4987-aaae-34f118e573ba",
   "metadata": {},
   "outputs": [
    {
     "data": {
      "text/plain": [
       "hellohello (generic function with 1 method)"
      ]
     },
     "execution_count": 88,
     "metadata": {},
     "output_type": "execute_result"
    }
   ],
   "source": [
    "include(\"../src/greeting.jl\")"
   ]
  },
  {
   "cell_type": "code",
   "execution_count": 89,
   "id": "c5568cba-09c2-4e08-8583-1658c1afb7ca",
   "metadata": {},
   "outputs": [
    {
     "name": "stdout",
     "output_type": "stream",
     "text": [
      "Hello, julia.\n"
     ]
    }
   ],
   "source": [
    "hellohello(\"julia\")"
   ]
  },
  {
   "cell_type": "markdown",
   "id": "9de12792-4a57-4d5f-a00a-e628e394f1d4",
   "metadata": {},
   "source": [
    "# メタプログラミング\n",
    "\n",
    "Pythonでいうところのデコレータ"
   ]
  },
  {
   "cell_type": "code",
   "execution_count": 90,
   "id": "d320846f-ae95-422f-ab6a-2c990da32fe1",
   "metadata": {},
   "outputs": [
    {
     "data": {
      "text/plain": [
       ":(2x + 1)"
      ]
     },
     "execution_count": 90,
     "metadata": {},
     "output_type": "execute_result"
    }
   ],
   "source": [
    "ex = 1;\n",
    ":(2x + $(ex))"
   ]
  },
  {
   "cell_type": "code",
   "execution_count": 91,
   "id": "2c455289-beb7-4fe6-9e4e-da414c8c020b",
   "metadata": {},
   "outputs": [
    {
     "data": {
      "text/plain": [
       ":(2x + (3y + 1))"
      ]
     },
     "execution_count": 91,
     "metadata": {},
     "output_type": "execute_result"
    }
   ],
   "source": [
    "ex = :(3y + 1);\n",
    ":(2x + $(ex))"
   ]
  },
  {
   "cell_type": "code",
   "execution_count": 92,
   "id": "ef7517bd-7558-4ec3-a8dc-89f6b0e7583a",
   "metadata": {},
   "outputs": [
    {
     "data": {
      "text/plain": [
       "24"
      ]
     },
     "execution_count": 92,
     "metadata": {},
     "output_type": "execute_result"
    }
   ],
   "source": [
    "x = 10\n",
    "y = 1\n",
    "eval(:(2x + $(ex)))"
   ]
  },
  {
   "cell_type": "markdown",
   "id": "0bd7f52b-b9e6-43d8-aeb9-3d3757ae5f45",
   "metadata": {},
   "source": [
    "ビットフラグを持つ3個の定数"
   ]
  },
  {
   "cell_type": "code",
   "execution_count": 94,
   "id": "e5fbcdfe-1ce4-4ca1-b841-c7bc84ac785d",
   "metadata": {},
   "outputs": [],
   "source": [
    "for (i, name) in enumerate([:A, :B, :C])\n",
    "    @eval const $(Symbol(:FLAG_, name)) = $(UInt16(1) << (i - 1))\n",
    "end"
   ]
  },
  {
   "cell_type": "code",
   "execution_count": 95,
   "id": "4b562a92-17f9-4688-9620-554404cb3653",
   "metadata": {},
   "outputs": [
    {
     "data": {
      "text/plain": [
       "(0x0001, 0x0002, 0x0004)"
      ]
     },
     "execution_count": 95,
     "metadata": {},
     "output_type": "execute_result"
    }
   ],
   "source": [
    "FLAG_A, FLAG_B, FLAG_C"
   ]
  },
  {
   "cell_type": "code",
   "execution_count": 96,
   "id": "16887687-db3c-49d2-87ca-b72cd6b5f41f",
   "metadata": {},
   "outputs": [
    {
     "data": {
      "text/plain": [
       "0x0001"
      ]
     },
     "execution_count": 96,
     "metadata": {},
     "output_type": "execute_result"
    }
   ],
   "source": [
    "FLAG_A"
   ]
  },
  {
   "cell_type": "markdown",
   "id": "35d83d4c-d429-436b-a905-3790807a38ee",
   "metadata": {},
   "source": [
    "## マクロ機能"
   ]
  },
  {
   "cell_type": "code",
   "execution_count": 98,
   "id": "e6008d7f-f134-4729-9332-349fa9dc2ba7",
   "metadata": {},
   "outputs": [
    {
     "data": {
      "text/plain": [
       ":(2 * Main.x + 1)"
      ]
     },
     "execution_count": 98,
     "metadata": {},
     "output_type": "execute_result"
    }
   ],
   "source": [
    "macro plus1(ex)\n",
    "    :($(ex) + 1)\n",
    "end\n",
    "\n",
    "@macroexpand @plus1 2x"
   ]
  },
  {
   "cell_type": "markdown",
   "id": "28481caf-96dc-4820-b4a7-22ac3dd2cab6",
   "metadata": {},
   "source": [
    "マクロで何もせずに変数を指定すると、グローバル変数として振る舞う。"
   ]
  },
  {
   "cell_type": "code",
   "execution_count": 100,
   "id": "c15960c8-2abc-4a8b-8b29-65b381b67844",
   "metadata": {},
   "outputs": [
    {
     "data": {
      "text/plain": [
       ":(2x + 1)"
      ]
     },
     "execution_count": 100,
     "metadata": {},
     "output_type": "execute_result"
    }
   ],
   "source": [
    "macro plus1e(ex)\n",
    "    :($(esc(ex)) + 1)\n",
    "end\n",
    "\n",
    "@macroexpand @plus1e 2x"
   ]
  },
  {
   "cell_type": "markdown",
   "id": "d76c8543-e750-4b64-b012-108e14cf1c01",
   "metadata": {},
   "source": [
    "esc関数を使って識別子がグルーバル変数に変換されないようにする。\n",
    "\n",
    "こうしないと、関数内やループの中でマクロを呼び出したときに、意図せずグローバルな変数を参照するようになってしまう。"
   ]
  },
  {
   "cell_type": "markdown",
   "id": "a6934dd6-9c4c-49a2-bd10-92dfa3df199d",
   "metadata": {},
   "source": [
    "### コードの実行時間を計測するマクロ"
   ]
  },
  {
   "cell_type": "code",
   "execution_count": 101,
   "id": "fa8adbf6-8aca-4b13-b57e-f5a5ee832398",
   "metadata": {},
   "outputs": [
    {
     "data": {
      "text/plain": [
       "@time_ns (macro with 1 method)"
      ]
     },
     "execution_count": 101,
     "metadata": {},
     "output_type": "execute_result"
    }
   ],
   "source": [
    "macro time_ns(ex)\n",
    "    quote\n",
    "        t1 = time_ns()\n",
    "        val = $(esc(ex))\n",
    "        t2 = time_ns()\n",
    "        val, Int(t2 - t1)\n",
    "    end\n",
    "end"
   ]
  },
  {
   "cell_type": "code",
   "execution_count": 104,
   "id": "07895c89-1f21-46b0-a5f0-ebaa4815d7f2",
   "metadata": {},
   "outputs": [
    {
     "data": {
      "text/plain": [
       "-52.09567940534663"
      ]
     },
     "execution_count": 104,
     "metadata": {},
     "output_type": "execute_result"
    }
   ],
   "source": [
    "sum(randn(1000))"
   ]
  },
  {
   "cell_type": "code",
   "execution_count": 105,
   "id": "22223738-1bbd-4bd7-a5a6-eb9920ac9174",
   "metadata": {},
   "outputs": [
    {
     "data": {
      "text/plain": [
       "quote\n",
       "    #= In[101]:3 =#\n",
       "    var\"#31#t1\" = Main.time_ns()\n",
       "    #= In[101]:4 =#\n",
       "    var\"#32#val\" = sum(randn(1000))\n",
       "    #= In[101]:5 =#\n",
       "    var\"#33#t2\" = Main.time_ns()\n",
       "    #= In[101]:6 =#\n",
       "    (var\"#32#val\", Main.Int(var\"#33#t2\" - var\"#31#t1\"))\n",
       "end"
      ]
     },
     "execution_count": 105,
     "metadata": {},
     "output_type": "execute_result"
    }
   ],
   "source": [
    "@macroexpand @time_ns sum(randn(1000))"
   ]
  },
  {
   "cell_type": "markdown",
   "id": "0902f0fc-c2cd-4227-81e6-7a28bf149304",
   "metadata": {},
   "source": [
    "macro内で使っている変数が切り替わっている（衛生的マクロ）ことがわかる"
   ]
  },
  {
   "cell_type": "markdown",
   "id": "1adc3bbd-9813-4667-9ceb-638005aac1e3",
   "metadata": {},
   "source": [
    "# 外部プログラムの呼び出し"
   ]
  },
  {
   "cell_type": "markdown",
   "id": "4d8cdb30-639c-42cc-986c-e60620d59feb",
   "metadata": {},
   "source": [
    "`` で囲うと、コマンドCmd型オブジェクトになる。"
   ]
  },
  {
   "cell_type": "code",
   "execution_count": 106,
   "id": "8ef68fdb-4779-47c1-80b6-a1f2bcf669b3",
   "metadata": {},
   "outputs": [
    {
     "data": {
      "text/plain": [
       "`\u001b[4mls\u001b[24m`"
      ]
     },
     "execution_count": 106,
     "metadata": {},
     "output_type": "execute_result"
    }
   ],
   "source": [
    "`ls`"
   ]
  },
  {
   "cell_type": "code",
   "execution_count": 107,
   "id": "6fb0a6b0-6a43-41e4-a8fb-ea97db0c540e",
   "metadata": {},
   "outputs": [
    {
     "name": "stdout",
     "output_type": "stream",
     "text": [
      "00_hello_julia.ipynb\n"
     ]
    },
    {
     "data": {
      "text/plain": [
       "Process(`\u001b[4mls\u001b[24m`, ProcessExited(0))"
      ]
     },
     "execution_count": 107,
     "metadata": {},
     "output_type": "execute_result"
    }
   ],
   "source": [
    "run(`ls`)"
   ]
  },
  {
   "cell_type": "markdown",
   "id": "1342a938-99c2-4a1c-b959-f80bca4adcaf",
   "metadata": {},
   "source": [
    "標準出力を変数に取り込む場合は、readを使う"
   ]
  },
  {
   "cell_type": "code",
   "execution_count": 108,
   "id": "dbf06efd-c0b3-473a-a440-0a13db24f3be",
   "metadata": {},
   "outputs": [
    {
     "name": "stdout",
     "output_type": "stream",
     "text": [
      "00_hello_julia.ipynb\n",
      "\n"
     ]
    }
   ],
   "source": [
    "ret = read(`ls`, String)\n",
    "println(ret)"
   ]
  },
  {
   "cell_type": "markdown",
   "id": "6afa9fff-ef68-40ca-8a53-1e147fdd9771",
   "metadata": {},
   "source": [
    "## パイプ処理\n",
    "\n",
    "`|`は文字として解釈されるので、パイプで連続処理をしたい場合には、`pipeline`を使う"
   ]
  },
  {
   "cell_type": "code",
   "execution_count": 109,
   "id": "438f92b5-64d6-4626-992a-fc85ddebf20b",
   "metadata": {},
   "outputs": [
    {
     "name": "stdout",
     "output_type": "stream",
     "text": [
      "11\n"
     ]
    },
    {
     "data": {
      "text/plain": [
       "Base.ProcessChain(Base.Process[Process(`\u001b[4mcat\u001b[24m \u001b[4m../README.md\u001b[24m`, ProcessExited(0)), Process(`\u001b[4mwc\u001b[24m \u001b[4m-l\u001b[24m`, ProcessExited(0))], Base.DevNull(), Base.DevNull(), Base.DevNull())"
      ]
     },
     "execution_count": 109,
     "metadata": {},
     "output_type": "execute_result"
    }
   ],
   "source": [
    "ret = pipeline(`cat ../README.md`, `wc -l`)\n",
    "run(ret)"
   ]
  },
  {
   "cell_type": "markdown",
   "id": "99907cbc-104a-49a4-a785-a33d0a93669d",
   "metadata": {},
   "source": [
    "## 補間"
   ]
  },
  {
   "cell_type": "code",
   "execution_count": 110,
   "id": "c79faf27-2c56-485d-a12c-03a037c872a0",
   "metadata": {},
   "outputs": [
    {
     "name": "stdout",
     "output_type": "stream",
     "text": [
      "hello\n"
     ]
    },
    {
     "data": {
      "text/plain": [
       "Process(`\u001b[4mecho\u001b[24m \u001b[4mhello\u001b[24m`, ProcessExited(0))"
      ]
     },
     "execution_count": 110,
     "metadata": {},
     "output_type": "execute_result"
    }
   ],
   "source": [
    "cmd = \"echo\"\n",
    "run(`$(cmd) hello`)"
   ]
  },
  {
   "cell_type": "code",
   "execution_count": 111,
   "id": "b65d07fb-9018-45ef-8986-84f872febfda",
   "metadata": {},
   "outputs": [
    {
     "name": "stdout",
     "output_type": "stream",
     "text": [
      "hello\n"
     ]
    },
    {
     "data": {
      "text/plain": [
       "Process(`\u001b[4mecho\u001b[24m \u001b[4mhello\u001b[24m`, ProcessExited(0))"
      ]
     },
     "execution_count": 111,
     "metadata": {},
     "output_type": "execute_result"
    }
   ],
   "source": [
    "msg = \"hello\"\n",
    "run(`echo $(msg)`)"
   ]
  },
  {
   "cell_type": "code",
   "execution_count": 112,
   "id": "3d88fb38-8f70-4680-b4a0-c0ddc15a48c9",
   "metadata": {},
   "outputs": [
    {
     "data": {
      "text/plain": [
       "`\u001b[4mtouch\u001b[24m \u001b[4mfoo\u001b[24m \u001b[4mbar\u001b[24m`"
      ]
     },
     "execution_count": 112,
     "metadata": {},
     "output_type": "execute_result"
    }
   ],
   "source": [
    "`touch $([\"foo\", \"bar\"])`"
   ]
  },
  {
   "cell_type": "markdown",
   "id": "7a3a8ab5-f9e3-4398-93d7-4a0047e8a3f1",
   "metadata": {},
   "source": [
    "補間の入力をリストやタプルにすると、複数の引数を入力することになる。"
   ]
  },
  {
   "cell_type": "code",
   "execution_count": null,
   "id": "8073f8f8-5ea4-40d9-a0e4-88a71c2f57d5",
   "metadata": {},
   "outputs": [],
   "source": []
  }
 ],
 "metadata": {
  "kernelspec": {
   "display_name": "Julia 1.6.1",
   "language": "julia",
   "name": "julia-1.6"
  },
  "language_info": {
   "file_extension": ".jl",
   "mimetype": "application/julia",
   "name": "julia",
   "version": "1.6.1"
  },
  "toc-autonumbering": true
 },
 "nbformat": 4,
 "nbformat_minor": 5
}
